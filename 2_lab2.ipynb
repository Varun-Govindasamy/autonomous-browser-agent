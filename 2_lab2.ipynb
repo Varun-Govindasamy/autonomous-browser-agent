{
 "cells": [
  {
   "cell_type": "code",
   "execution_count": 1,
   "metadata": {},
   "outputs": [
    {
     "name": "stderr",
     "output_type": "stream",
     "text": [
      "c:\\Users\\Varun\\AppData\\Local\\Programs\\Python\\Python313\\Lib\\site-packages\\tqdm\\auto.py:21: TqdmWarning: IProgress not found. Please update jupyter and ipywidgets. See https://ipywidgets.readthedocs.io/en/stable/user_install.html\n",
      "  from .autonotebook import tqdm as notebook_tqdm\n"
     ]
    }
   ],
   "source": [
    "from typing import Annotated\n",
    "from langgraph.graph import StateGraph, START\n",
    "from langgraph.graph.message import add_messages\n",
    "from dotenv import load_dotenv\n",
    "from IPython.display import Image, display\n",
    "import gradio as gr\n",
    "from langgraph.prebuilt import ToolNode, tools_condition\n",
    "import requests\n",
    "import os\n",
    "from langchain_openai import ChatOpenAI\n",
    "from typing import TypedDict\n"
   ]
  },
  {
   "cell_type": "code",
   "execution_count": 2,
   "metadata": {},
   "outputs": [
    {
     "data": {
      "text/plain": [
       "True"
      ]
     },
     "execution_count": 2,
     "metadata": {},
     "output_type": "execute_result"
    }
   ],
   "source": [
    "# Our favorite first step! Crew was doing this for us, by the way.\n",
    "load_dotenv(override=True)\n"
   ]
  },
  {
   "cell_type": "code",
   "execution_count": 3,
   "metadata": {},
   "outputs": [
    {
     "data": {
      "text/plain": [
       "'Paris is the capital and largest city of France. With an estimated population of 2,048,472 in January 2025 in an area of more than 105 km2 (41 sq mi), ... Paris is the capital and most populous city of France. Situated on the Seine River, in the north of the country, it is in the centre of the Île-de-France ... Paris is the capital of France, the largest country of Europe with 550 000 km2 (65 millions inhabitants). Paris has 2.234 million inhabitants end 2011. France is a semi-presidential republic. Its capital, largest city and main cultural and economic centre is Paris. Paris, city and capital of France, located along the Seine River, in the north-central part of the country. Paris is one of the world\\'s most important and ... Paris is the city of romance par excellence, the fashion capital and the best example of French art de vivre. Exploring Paris is an essential rite of passage ... Paris, the capital of France, is often referred to as the \"City of Light\" and is renowned for its art, culture, and history. Paris is the capital and most populous city of France. Situated on the Seine River, in the north of the country, it is in the centre of the Île- ... The capital and by far the most important city of France is Paris, one of the world\\'s preeminent cultural and commercial centres. Dive into the charm of Paris, the capital of France! Explore its rich history, iconic attractions, and delectable cuisine in our guide.'"
      ]
     },
     "execution_count": 3,
     "metadata": {},
     "output_type": "execute_result"
    }
   ],
   "source": [
    "\n",
    "from langchain_community.utilities import GoogleSerperAPIWrapper\n",
    "\n",
    "serper = GoogleSerperAPIWrapper()\n",
    "serper.run(\"What is the capital of France?\")"
   ]
  },
  {
   "cell_type": "code",
   "execution_count": 4,
   "metadata": {},
   "outputs": [],
   "source": [
    "from langchain.agents import Tool\n",
    "\n",
    "\n",
    "tool_search = Tool(\n",
    "    name = \"search\",\n",
    "    func=serper.run,\n",
    "    description=\"Useful for when you need more information from an online search\"\n",
    ")\n"
   ]
  },
  {
   "cell_type": "code",
   "execution_count": 6,
   "metadata": {},
   "outputs": [
    {
     "data": {
      "text/plain": [
       "\"India 2025 population is estimated at 1,463,865,525 people at mid-year. India population is equivalent to 17.78% of the total world population. India ranks ... In 2023 India's population stood at slightly over 1.428 billion, edging past China's population of 1.425 billion people. World Population ; India, 1,419,316,933 ; China, 1,407,181,209 ; United States, 342,034,432 ; Indonesia, 283,587,097 ; Pakistan, 257,047,044. Total current population for India in 2025 is 1,454,606,724, a 0.89% increase from 2024. Total population for India in 2024 was 1,441,719,852, a 0.25% increase ... India is a country in Asia. The population in India was 1,438,069,596 in 2023. The nominal GDP per capita in India was $2,480.79 in 2023. The Gini index in ... It has a population of nearly 1464 million, making it the 1st largest country in the world. Its capital is New Delhi. As of 1 January 2025, the population of India was estimated to be 1,461,898,454 people. This is an increase of 1.26 % (18,176,460 people) compared to population ... It is a pluralistic, multilingual and multi-ethnic society. India's population grew from 361 million in 1951 to over 1.4 billion in 2023. India's population is estimated to have reached 146.39 crore by April, says a new UN demographic report, which adds that the country's total ...\""
      ]
     },
     "execution_count": 6,
     "metadata": {},
     "output_type": "execute_result"
    }
   ],
   "source": [
    "tool_search.invoke(\"What is the population of India?\")"
   ]
  },
  {
   "cell_type": "code",
   "execution_count": 5,
   "metadata": {},
   "outputs": [],
   "source": [
    "pushover_token = os.getenv(\"PUSHOVER_TOKEN\")\n",
    "pushover_user = os.getenv(\"PUSHOVER_USER\")\n",
    "pushover_url = \"https://api.pushover.net/1/messages.json\"\n",
    "\n",
    "def push(text: str):\n",
    "    \"\"\"Send a push notification to the user\"\"\"\n",
    "    requests.post(pushover_url, data = {\"token\": pushover_token, \"user\": pushover_user, \"message\": text})\n",
    "    "
   ]
  },
  {
   "cell_type": "code",
   "execution_count": 6,
   "metadata": {},
   "outputs": [],
   "source": [
    "tool_push = Tool(\n",
    "        name=\"send_push_notification\",\n",
    "        func=push,\n",
    "        description=\"useful for when you want to send a push notification\"\n",
    "    )\n",
    "\n",
    "tool_push.invoke(\"Hello, Varun! This is a test notification from LangGraph.\")"
   ]
  },
  {
   "cell_type": "code",
   "execution_count": 7,
   "metadata": {},
   "outputs": [],
   "source": [
    "tools = [tool_search, tool_push]"
   ]
  },
  {
   "cell_type": "code",
   "execution_count": 8,
   "metadata": {},
   "outputs": [],
   "source": [
    "# Step 1: Define the State object\n",
    "class State(TypedDict):\n",
    "    messages: Annotated[list, add_messages]"
   ]
  },
  {
   "cell_type": "code",
   "execution_count": 13,
   "metadata": {},
   "outputs": [],
   "source": [
    "# Step 2: Start the Graph Builder with this State class\n",
    "graph_builder = StateGraph(State)"
   ]
  },
  {
   "cell_type": "code",
   "execution_count": 15,
   "metadata": {},
   "outputs": [],
   "source": [
    "# This is different:\n",
    "\n",
    "llm = ChatOpenAI(model=\"gpt-4o-mini\")\n",
    "llm_with_tools = llm.bind_tools(tools)"
   ]
  },
  {
   "cell_type": "code",
   "execution_count": null,
   "metadata": {},
   "outputs": [],
   "source": [
    "# Step 3: Create a Node\n",
    "\n",
    "def chatbot(state: State):\n",
    "    response = llm_with_tools.invoke(state[\"messages\"])\n",
    "    messages = [response]\n",
    "    new_state = state(messages=messages)\n",
    "    # return {\"messages\": [llm_with_tools.invoke(state[\"messages\"])]}\n",
    "    return new_state\n",
    "\n",
    "graph_builder.add_node(\"chatbot_node_test\", chatbot)\n",
    "graph_builder.add_node(\"tools_node_test\", ToolNode(tools=tools))"
   ]
  },
  {
   "cell_type": "code",
   "execution_count": 21,
   "metadata": {},
   "outputs": [
    {
     "data": {
      "text/plain": [
       "<langgraph.graph.state.StateGraph at 0x1f4797b9550>"
      ]
     },
     "execution_count": 21,
     "metadata": {},
     "output_type": "execute_result"
    }
   ],
   "source": [
    "# Step 4: Create Edges\n",
    "\n",
    "\n",
    "graph_builder.add_conditional_edges( \"chatbot_node_test\", tools_condition, \"tools_node_test\")\n",
    "\n",
    "# Any time a tool is called, we return to the chatbot to decide the next step\n",
    "graph_builder.add_edge(\"tools_node_test\", \"chatbot_node_test\")\n",
    "graph_builder.add_edge(START, \"chatbot_node_test\")"
   ]
  },
  {
   "cell_type": "code",
   "execution_count": 22,
   "metadata": {},
   "outputs": [
    {
     "data": {
      "image/png": "[encoded data removed]",
      "text/plain": [
       "<IPython.core.display.Image object>"
      ]
     },
     "metadata": {},
     "output_type": "display_data"
    }
   ],
   "source": [
    "# Step 5: Compile the Graph\n",
    "graph = graph_builder.compile()\n",
    "display(Image(graph.get_graph().draw_mermaid_png()))"
   ]
  },
  {
   "cell_type": "markdown",
   "metadata": {},
   "source": [
    "### That's it! And, let's do this:"
   ]
  },
  {
   "cell_type": "code",
   "execution_count": 26,
   "metadata": {},
   "outputs": [
    {
     "name": "stdout",
     "output_type": "stream",
     "text": [
      "* Running on local URL:  http://127.0.0.1:7861\n",
      "* To create a public link, set `share=True` in `launch()`.\n"
     ]
    },
    {
     "data": {
      "text/html": [
       "<div><iframe src=\"http://127.0.0.1:7861/\" width=\"100%\" height=\"500\" allow=\"autoplay; camera; microphone; clipboard-read; clipboard-write;\" frameborder=\"0\" allowfullscreen></iframe></div>"
      ],
      "text/plain": [
       "<IPython.core.display.HTML object>"
      ]
     },
     "metadata": {},
     "output_type": "display_data"
    },
    {
     "data": {
      "text/plain": []
     },
     "execution_count": 26,
     "metadata": {},
     "output_type": "execute_result"
    },
    {
     "name": "stderr",
     "output_type": "stream",
     "text": [
      "Traceback (most recent call last):\n",
      "  File \"c:\\Users\\Varun\\AppData\\Local\\Programs\\Python\\Python313\\Lib\\site-packages\\gradio\\queueing.py\", line 626, in process_events\n",
      "    response = await route_utils.call_process_api(\n",
      "               ^^^^^^^^^^^^^^^^^^^^^^^^^^^^^^^^^^^\n",
      "    ...<5 lines>...\n",
      "    )\n",
      "    ^\n",
      "  File \"c:\\Users\\Varun\\AppData\\Local\\Programs\\Python\\Python313\\Lib\\site-packages\\gradio\\route_utils.py\", line 350, in call_process_api\n",
      "    output = await app.get_blocks().process_api(\n",
      "             ^^^^^^^^^^^^^^^^^^^^^^^^^^^^^^^^^^^\n",
      "    ...<11 lines>...\n",
      "    )\n",
      "    ^\n",
      "  File \"c:\\Users\\Varun\\AppData\\Local\\Programs\\Python\\Python313\\Lib\\site-packages\\gradio\\blocks.py\", line 2239, in process_api\n",
      "    result = await self.call_function(\n",
      "             ^^^^^^^^^^^^^^^^^^^^^^^^^\n",
      "    ...<8 lines>...\n",
      "    )\n",
      "    ^\n",
      "  File \"c:\\Users\\Varun\\AppData\\Local\\Programs\\Python\\Python313\\Lib\\site-packages\\gradio\\blocks.py\", line 1744, in call_function\n",
      "    prediction = await fn(*processed_input)\n",
      "                 ^^^^^^^^^^^^^^^^^^^^^^^^^^\n",
      "  File \"c:\\Users\\Varun\\AppData\\Local\\Programs\\Python\\Python313\\Lib\\site-packages\\gradio\\utils.py\", line 884, in async_wrapper\n",
      "    response = await f(*args, **kwargs)\n",
      "               ^^^^^^^^^^^^^^^^^^^^^^^^\n",
      "  File \"c:\\Users\\Varun\\AppData\\Local\\Programs\\Python\\Python313\\Lib\\site-packages\\gradio\\chat_interface.py\", line 551, in __wrapper\n",
      "    return await submit_fn(*args, **kwargs)\n",
      "           ^^^^^^^^^^^^^^^^^^^^^^^^^^^^^^^^\n",
      "  File \"c:\\Users\\Varun\\AppData\\Local\\Programs\\Python\\Python313\\Lib\\site-packages\\gradio\\chat_interface.py\", line 925, in _submit_fn\n",
      "    response = await anyio.to_thread.run_sync(\n",
      "               ^^^^^^^^^^^^^^^^^^^^^^^^^^^^^^^\n",
      "        self.fn, *inputs, limiter=self.limiter\n",
      "        ^^^^^^^^^^^^^^^^^^^^^^^^^^^^^^^^^^^^^^\n",
      "    )\n",
      "    ^\n",
      "  File \"c:\\Users\\Varun\\AppData\\Local\\Programs\\Python\\Python313\\Lib\\site-packages\\anyio\\to_thread.py\", line 56, in run_sync\n",
      "    return await get_async_backend().run_sync_in_worker_thread(\n",
      "           ^^^^^^^^^^^^^^^^^^^^^^^^^^^^^^^^^^^^^^^^^^^^^^^^^^^^\n",
      "        func, args, abandon_on_cancel=abandon_on_cancel, limiter=limiter\n",
      "        ^^^^^^^^^^^^^^^^^^^^^^^^^^^^^^^^^^^^^^^^^^^^^^^^^^^^^^^^^^^^^^^^\n",
      "    )\n",
      "    ^\n",
      "  File \"c:\\Users\\Varun\\AppData\\Local\\Programs\\Python\\Python313\\Lib\\site-packages\\anyio\\_backends\\_asyncio.py\", line 2470, in run_sync_in_worker_thread\n",
      "    return await future\n",
      "           ^^^^^^^^^^^^\n",
      "  File \"c:\\Users\\Varun\\AppData\\Local\\Programs\\Python\\Python313\\Lib\\site-packages\\anyio\\_backends\\_asyncio.py\", line 967, in run\n",
      "    result = context.run(func, *args)\n",
      "  File \"C:\\Users\\Varun\\AppData\\Local\\Temp\\ipykernel_37820\\2081603708.py\", line 2, in chat\n",
      "    result = graph.invoke({\"messages\": [{\"role\": \"user\", \"content\": user_input}]})\n",
      "  File \"c:\\Users\\Varun\\AppData\\Local\\Programs\\Python\\Python313\\Lib\\site-packages\\langgraph\\pregel\\main.py\", line 3019, in invoke\n",
      "    for chunk in self.stream(\n",
      "                 ~~~~~~~~~~~^\n",
      "        input,\n",
      "        ^^^^^^\n",
      "    ...<9 lines>...\n",
      "        **kwargs,\n",
      "        ^^^^^^^^^\n",
      "    ):\n",
      "    ^\n",
      "  File \"c:\\Users\\Varun\\AppData\\Local\\Programs\\Python\\Python313\\Lib\\site-packages\\langgraph\\pregel\\main.py\", line 2651, in stream\n",
      "    for _ in runner.tick(\n",
      "             ~~~~~~~~~~~^\n",
      "        [t for t in loop.tasks.values() if not t.writes],\n",
      "        ^^^^^^^^^^^^^^^^^^^^^^^^^^^^^^^^^^^^^^^^^^^^^^^^^\n",
      "    ...<2 lines>...\n",
      "        schedule_task=loop.accept_push,\n",
      "        ^^^^^^^^^^^^^^^^^^^^^^^^^^^^^^^\n",
      "    ):\n",
      "    ^\n",
      "  File \"c:\\Users\\Varun\\AppData\\Local\\Programs\\Python\\Python313\\Lib\\site-packages\\langgraph\\pregel\\_runner.py\", line 162, in tick\n",
      "    run_with_retry(\n",
      "    ~~~~~~~~~~~~~~^\n",
      "        t,\n",
      "        ^^\n",
      "    ...<10 lines>...\n",
      "        },\n",
      "        ^^\n",
      "    )\n",
      "    ^\n",
      "  File \"c:\\Users\\Varun\\AppData\\Local\\Programs\\Python\\Python313\\Lib\\site-packages\\langgraph\\pregel\\_retry.py\", line 42, in run_with_retry\n",
      "    return task.proc.invoke(task.input, config)\n",
      "           ~~~~~~~~~~~~~~~~^^^^^^^^^^^^^^^^^^^^\n",
      "  File \"c:\\Users\\Varun\\AppData\\Local\\Programs\\Python\\Python313\\Lib\\site-packages\\langgraph\\_internal\\_runnable.py\", line 646, in invoke\n",
      "    input = context.run(step.invoke, input, config, **kwargs)\n",
      "  File \"c:\\Users\\Varun\\AppData\\Local\\Programs\\Python\\Python313\\Lib\\site-packages\\langgraph\\_internal\\_runnable.py\", line 390, in invoke\n",
      "    ret = self.func(*args, **kwargs)\n",
      "  File \"C:\\Users\\Varun\\AppData\\Local\\Temp\\ipykernel_37820\\1831730770.py\", line 4, in chatbot\n",
      "    response = llm_with_tools.invoke(state.messages)\n",
      "                                     ^^^^^^^^^^^^^^\n",
      "AttributeError: 'dict' object has no attribute 'messages'\n",
      "During task with name 'chatbot_node_test' and id '344ba8a4-39f3-4419-c5ed-e81e04f37c92'\n"
     ]
    }
   ],
   "source": [
    "def chat(user_input: str, history):\n",
    "    result = graph.invoke({\"messages\": [{\"role\": \"user\", \"content\": user_input}]})\n",
    "    return result[\"messages\"][-1].content\n",
    "\n",
    "\n",
    "gr.ChatInterface(chat, type=\"messages\").launch()"
   ]
  },
  {
   "cell_type": "markdown",
   "metadata": {},
   "source": [
    "## OK it's time to add Memory!\n",
    "\n",
    "### BUT WAIT!\n",
    "\n",
    "We have this whole Graph maintaining the state and appending to the state.\n",
    "\n",
    "Why isn't this handling memory?\n",
    "\n",
    "### This is a crucial point for understanding LangGraph\n",
    "\n",
    "> A super-step can be considered a single iteration over the graph nodes. Nodes that run in parallel are part of the same super-step, while nodes that run sequentially belong to separate super-steps.\n",
    "\n",
    "\n",
    "One \"Super-Step\" of the graph represents one invocation of passing messages between agents.\n",
    "\n",
    "In idomatic LangGraph, you call invoke to run your graph for each super-step; for each interaction.\n",
    "\n",
    "The reducer handles state updates automatically within one super-step, but not between them.\n",
    "\n",
    "That is what checkpointing achieves."
   ]
  },
  {
   "cell_type": "code",
   "execution_count": 10,
   "metadata": {},
   "outputs": [],
   "source": [
    "from langgraph.checkpoint.memory import MemorySaver\n",
    "\n",
    "memory = MemorySaver()"
   ]
  },
  {
   "cell_type": "code",
   "execution_count": 11,
   "metadata": {},
   "outputs": [
    {
     "data": {
      "image/png": "[encoded data removed]",
      "text/plain": [
       "<IPython.core.display.Image object>"
      ]
     },
     "metadata": {},
     "output_type": "display_data"
    }
   ],
   "source": [
    "# Steps 1 and 2\n",
    "graph_builder = StateGraph(State)\n",
    "\n",
    "\n",
    "# Step 3\n",
    "llm = ChatOpenAI(model=\"gpt-4o-mini\")\n",
    "llm_with_tools = llm.bind_tools(tools)\n",
    "\n",
    "def chatbot(state: State):\n",
    "    print(state)\n",
    "    return {\"messages\": [llm_with_tools.invoke(state[\"messages\"])]}\n",
    "\n",
    "graph_builder.add_node(\"chatbot\", chatbot)\n",
    "graph_builder.add_node(\"tools\", ToolNode(tools=tools))\n",
    "\n",
    "# Step 4\n",
    "graph_builder.add_conditional_edges( \"chatbot\", tools_condition, \"tools\")\n",
    "graph_builder.add_edge(\"tools\", \"chatbot\")\n",
    "graph_builder.add_edge(START, \"chatbot\")\n",
    "\n",
    "# Step 5\n",
    "graph = graph_builder.compile(checkpointer=memory)\n",
    "display(Image(graph.get_graph().draw_mermaid_png()))"
   ]
  },
  {
   "cell_type": "code",
   "execution_count": null,
   "metadata": {},
   "outputs": [
    {
     "name": "stdout",
     "output_type": "stream",
     "text": [
      "* Running on local URL:  http://127.0.0.1:7860\n",
      "* To create a public link, set `share=True` in `launch()`.\n"
     ]
    },
    {
     "data": {
      "text/html": [
       "<div><iframe src=\"http://127.0.0.1:7860/\" width=\"100%\" height=\"500\" allow=\"autoplay; camera; microphone; clipboard-read; clipboard-write;\" frameborder=\"0\" allowfullscreen></iframe></div>"
      ],
      "text/plain": [
       "<IPython.core.display.HTML object>"
      ]
     },
     "metadata": {},
     "output_type": "display_data"
    },
    {
     "data": {
      "text/plain": []
     },
     "execution_count": 12,
     "metadata": {},
     "output_type": "execute_result"
    },
    {
     "name": "stdout",
     "output_type": "stream",
     "text": [
      "{'messages': [HumanMessage(content=\"My name is Varun, I'm 30 years old\", additional_kwargs={}, response_metadata={}, id='7694f196-3180-4b0c-a3ce-baa346306573')]}\n",
      "{'messages': [HumanMessage(content=\"My name is Varun, I'm 30 years old\", additional_kwargs={}, response_metadata={}, id='7694f196-3180-4b0c-a3ce-baa346306573'), AIMessage(content='Nice to meet you, Varun! How can I assist you today?', additional_kwargs={'refusal': None}, response_metadata={'token_usage': {'completion_tokens': 16, 'prompt_tokens': 99, 'total_tokens': 115, 'completion_tokens_details': {'accepted_prediction_tokens': 0, 'audio_tokens': 0, 'reasoning_tokens': 0, 'rejected_prediction_tokens': 0}, 'prompt_tokens_details': {'audio_tokens': 0, 'cached_tokens': 0}}, 'model_name': 'gpt-4o-mini-2024-07-18', 'system_fingerprint': 'fp_34a54ae93c', 'id': 'chatcmpl-Bzg9DjIVEcdmsubGKTd5tg3meRX08', 'service_tier': 'default', 'finish_reason': 'stop', 'logprobs': None}, id='run--3fe43c49-7215-44c9-9f30-34e58de9277f-0', usage_metadata={'input_tokens': 99, 'output_tokens': 16, 'total_tokens': 115, 'input_token_details': {'audio': 0, 'cache_read': 0}, 'output_token_details': {'audio': 0, 'reasoning': 0}}), HumanMessage(content='When was I born?', additional_kwargs={}, response_metadata={}, id='83dc3684-d571-42e2-a31c-982c91e037fd')]}\n"
     ]
    }
   ],
   "source": [
    "config = {\"configurable\": {\"thread_id\": \"1\"}}\n",
    "\n",
    "def chat(user_input: str, history):\n",
    "    result = graph.invoke({\"messages\": [{\"role\": \"user\", \"content\": user_input}]}, config=config)\n",
    "    \n",
    "    return result[\"messages\"][-1].content\n",
    "\n",
    "gr.ChatInterface(chat, type=\"messages\").launch()"
   ]
  },
  {
   "cell_type": "code",
   "execution_count": null,
   "metadata": {},
   "outputs": [
    {
     "data": {
      "text/plain": [
       "StateSnapshot(values={'messages': [HumanMessage(content=\"My name is Varun, I'm 30 years old\", additional_kwargs={}, response_metadata={}, id='7694f196-3180-4b0c-a3ce-baa346306573'), AIMessage(content='Nice to meet you, Varun! How can I assist you today?', additional_kwargs={'refusal': None}, response_metadata={'token_usage': {'completion_tokens': 16, 'prompt_tokens': 99, 'total_tokens': 115, 'completion_tokens_details': {'accepted_prediction_tokens': 0, 'audio_tokens': 0, 'reasoning_tokens': 0, 'rejected_prediction_tokens': 0}, 'prompt_tokens_details': {'audio_tokens': 0, 'cached_tokens': 0}}, 'model_name': 'gpt-4o-mini-2024-07-18', 'system_fingerprint': 'fp_34a54ae93c', 'id': 'chatcmpl-Bzg9DjIVEcdmsubGKTd5tg3meRX08', 'service_tier': 'default', 'finish_reason': 'stop', 'logprobs': None}, id='run--3fe43c49-7215-44c9-9f30-34e58de9277f-0', usage_metadata={'input_tokens': 99, 'output_tokens': 16, 'total_tokens': 115, 'input_token_details': {'audio': 0, 'cache_read': 0}, 'output_token_details': {'audio': 0, 'reasoning': 0}}), HumanMessage(content='When was I born?', additional_kwargs={}, response_metadata={}, id='83dc3684-d571-42e2-a31c-982c91e037fd'), AIMessage(content=\"If you're 30 years old now, you were likely born in 1993, assuming you haven't had your birthday yet this year. If you've already had your birthday, you would have been born in 1992.\", additional_kwargs={'refusal': None}, response_metadata={'token_usage': {'completion_tokens': 45, 'prompt_tokens': 127, 'total_tokens': 172, 'completion_tokens_details': {'accepted_prediction_tokens': 0, 'audio_tokens': 0, 'reasoning_tokens': 0, 'rejected_prediction_tokens': 0}, 'prompt_tokens_details': {'audio_tokens': 0, 'cached_tokens': 0}}, 'model_name': 'gpt-4o-mini-2024-07-18', 'system_fingerprint': 'fp_34a54ae93c', 'id': 'chatcmpl-Bzg9Sl9NjmP9EVJGZAKFzrUGf1f7q', 'service_tier': 'default', 'finish_reason': 'stop', 'logprobs': None}, id='run--73d63b47-9ccb-496f-b1b0-61918c7c7148-0', usage_metadata={'input_tokens': 127, 'output_tokens': 45, 'total_tokens': 172, 'input_token_details': {'audio': 0, 'cache_read': 0}, 'output_token_details': {'audio': 0, 'reasoning': 0}})]}, next=(), config={'configurable': {'thread_id': '1', 'checkpoint_ns': '', 'checkpoint_id': '1f06eb81-7672-6b5c-8004-4e31e37967e9'}}, metadata={'source': 'loop', 'step': 4, 'parents': {}}, created_at='2025-08-01T09:15:39.416041+00:00', parent_config={'configurable': {'thread_id': '1', 'checkpoint_ns': '', 'checkpoint_id': '1f06eb81-60e4-6e1f-8003-70b8204967a8'}}, tasks=(), interrupts=())"
      ]
     },
     "execution_count": 13,
     "metadata": {},
     "output_type": "execute_result"
    }
   ],
   "source": [
    "graph.get_state(config)"
   ]
  },
  {
   "cell_type": "code",
   "execution_count": 14,
   "metadata": {},
   "outputs": [
    {
     "data": {
      "text/plain": [
       "[StateSnapshot(values={'messages': [HumanMessage(content=\"My name is Varun, I'm 30 years old\", additional_kwargs={}, response_metadata={}, id='7694f196-3180-4b0c-a3ce-baa346306573'), AIMessage(content='Nice to meet you, Varun! How can I assist you today?', additional_kwargs={'refusal': None}, response_metadata={'token_usage': {'completion_tokens': 16, 'prompt_tokens': 99, 'total_tokens': 115, 'completion_tokens_details': {'accepted_prediction_tokens': 0, 'audio_tokens': 0, 'reasoning_tokens': 0, 'rejected_prediction_tokens': 0}, 'prompt_tokens_details': {'audio_tokens': 0, 'cached_tokens': 0}}, 'model_name': 'gpt-4o-mini-2024-07-18', 'system_fingerprint': 'fp_34a54ae93c', 'id': 'chatcmpl-Bzg9DjIVEcdmsubGKTd5tg3meRX08', 'service_tier': 'default', 'finish_reason': 'stop', 'logprobs': None}, id='run--3fe43c49-7215-44c9-9f30-34e58de9277f-0', usage_metadata={'input_tokens': 99, 'output_tokens': 16, 'total_tokens': 115, 'input_token_details': {'audio': 0, 'cache_read': 0}, 'output_token_details': {'audio': 0, 'reasoning': 0}}), HumanMessage(content='When was I born?', additional_kwargs={}, response_metadata={}, id='83dc3684-d571-42e2-a31c-982c91e037fd'), AIMessage(content=\"If you're 30 years old now, you were likely born in 1993, assuming you haven't had your birthday yet this year. If you've already had your birthday, you would have been born in 1992.\", additional_kwargs={'refusal': None}, response_metadata={'token_usage': {'completion_tokens': 45, 'prompt_tokens': 127, 'total_tokens': 172, 'completion_tokens_details': {'accepted_prediction_tokens': 0, 'audio_tokens': 0, 'reasoning_tokens': 0, 'rejected_prediction_tokens': 0}, 'prompt_tokens_details': {'audio_tokens': 0, 'cached_tokens': 0}}, 'model_name': 'gpt-4o-mini-2024-07-18', 'system_fingerprint': 'fp_34a54ae93c', 'id': 'chatcmpl-Bzg9Sl9NjmP9EVJGZAKFzrUGf1f7q', 'service_tier': 'default', 'finish_reason': 'stop', 'logprobs': None}, id='run--73d63b47-9ccb-496f-b1b0-61918c7c7148-0', usage_metadata={'input_tokens': 127, 'output_tokens': 45, 'total_tokens': 172, 'input_token_details': {'audio': 0, 'cache_read': 0}, 'output_token_details': {'audio': 0, 'reasoning': 0}})]}, next=(), config={'configurable': {'thread_id': '1', 'checkpoint_ns': '', 'checkpoint_id': '1f06eb81-7672-6b5c-8004-4e31e37967e9'}}, metadata={'source': 'loop', 'step': 4, 'parents': {}}, created_at='2025-08-01T09:15:39.416041+00:00', parent_config={'configurable': {'thread_id': '1', 'checkpoint_ns': '', 'checkpoint_id': '1f06eb81-60e4-6e1f-8003-70b8204967a8'}}, tasks=(), interrupts=()),\n",
       " StateSnapshot(values={'messages': [HumanMessage(content=\"My name is Varun, I'm 30 years old\", additional_kwargs={}, response_metadata={}, id='7694f196-3180-4b0c-a3ce-baa346306573'), AIMessage(content='Nice to meet you, Varun! How can I assist you today?', additional_kwargs={'refusal': None}, response_metadata={'token_usage': {'completion_tokens': 16, 'prompt_tokens': 99, 'total_tokens': 115, 'completion_tokens_details': {'accepted_prediction_tokens': 0, 'audio_tokens': 0, 'reasoning_tokens': 0, 'rejected_prediction_tokens': 0}, 'prompt_tokens_details': {'audio_tokens': 0, 'cached_tokens': 0}}, 'model_name': 'gpt-4o-mini-2024-07-18', 'system_fingerprint': 'fp_34a54ae93c', 'id': 'chatcmpl-Bzg9DjIVEcdmsubGKTd5tg3meRX08', 'service_tier': 'default', 'finish_reason': 'stop', 'logprobs': None}, id='run--3fe43c49-7215-44c9-9f30-34e58de9277f-0', usage_metadata={'input_tokens': 99, 'output_tokens': 16, 'total_tokens': 115, 'input_token_details': {'audio': 0, 'cache_read': 0}, 'output_token_details': {'audio': 0, 'reasoning': 0}}), HumanMessage(content='When was I born?', additional_kwargs={}, response_metadata={}, id='83dc3684-d571-42e2-a31c-982c91e037fd')]}, next=('chatbot',), config={'configurable': {'thread_id': '1', 'checkpoint_ns': '', 'checkpoint_id': '1f06eb81-60e4-6e1f-8003-70b8204967a8'}}, metadata={'source': 'loop', 'step': 3, 'parents': {}}, created_at='2025-08-01T09:15:37.155935+00:00', parent_config={'configurable': {'thread_id': '1', 'checkpoint_ns': '', 'checkpoint_id': '1f06eb81-60e1-6d2c-8002-cca528569a28'}}, tasks=(PregelTask(id='cef4a5fa-f982-819e-df76-8990fc40665e', name='chatbot', path=('__pregel_pull', 'chatbot'), error=None, interrupts=(), state=None, result={'messages': [AIMessage(content=\"If you're 30 years old now, you were likely born in 1993, assuming you haven't had your birthday yet this year. If you've already had your birthday, you would have been born in 1992.\", additional_kwargs={'refusal': None}, response_metadata={'token_usage': {'completion_tokens': 45, 'prompt_tokens': 127, 'total_tokens': 172, 'completion_tokens_details': {'accepted_prediction_tokens': 0, 'audio_tokens': 0, 'reasoning_tokens': 0, 'rejected_prediction_tokens': 0}, 'prompt_tokens_details': {'audio_tokens': 0, 'cached_tokens': 0}}, 'model_name': 'gpt-4o-mini-2024-07-18', 'system_fingerprint': 'fp_34a54ae93c', 'id': 'chatcmpl-Bzg9Sl9NjmP9EVJGZAKFzrUGf1f7q', 'service_tier': 'default', 'finish_reason': 'stop', 'logprobs': None}, id='run--73d63b47-9ccb-496f-b1b0-61918c7c7148-0', usage_metadata={'input_tokens': 127, 'output_tokens': 45, 'total_tokens': 172, 'input_token_details': {'audio': 0, 'cache_read': 0}, 'output_token_details': {'audio': 0, 'reasoning': 0}})]}),), interrupts=()),\n",
       " StateSnapshot(values={'messages': [HumanMessage(content=\"My name is Varun, I'm 30 years old\", additional_kwargs={}, response_metadata={}, id='7694f196-3180-4b0c-a3ce-baa346306573'), AIMessage(content='Nice to meet you, Varun! How can I assist you today?', additional_kwargs={'refusal': None}, response_metadata={'token_usage': {'completion_tokens': 16, 'prompt_tokens': 99, 'total_tokens': 115, 'completion_tokens_details': {'accepted_prediction_tokens': 0, 'audio_tokens': 0, 'reasoning_tokens': 0, 'rejected_prediction_tokens': 0}, 'prompt_tokens_details': {'audio_tokens': 0, 'cached_tokens': 0}}, 'model_name': 'gpt-4o-mini-2024-07-18', 'system_fingerprint': 'fp_34a54ae93c', 'id': 'chatcmpl-Bzg9DjIVEcdmsubGKTd5tg3meRX08', 'service_tier': 'default', 'finish_reason': 'stop', 'logprobs': None}, id='run--3fe43c49-7215-44c9-9f30-34e58de9277f-0', usage_metadata={'input_tokens': 99, 'output_tokens': 16, 'total_tokens': 115, 'input_token_details': {'audio': 0, 'cache_read': 0}, 'output_token_details': {'audio': 0, 'reasoning': 0}})]}, next=('__start__',), config={'configurable': {'thread_id': '1', 'checkpoint_ns': '', 'checkpoint_id': '1f06eb81-60e1-6d2c-8002-cca528569a28'}}, metadata={'source': 'input', 'step': 2, 'parents': {}}, created_at='2025-08-01T09:15:37.154681+00:00', parent_config={'configurable': {'thread_id': '1', 'checkpoint_ns': '', 'checkpoint_id': '1f06eb80-dbad-6440-8001-8c3f24915021'}}, tasks=(PregelTask(id='b0a064bd-40c6-e7a5-5783-d7d15126367d', name='__start__', path=('__pregel_pull', '__start__'), error=None, interrupts=(), state=None, result={'messages': [{'role': 'user', 'content': 'When was I born?'}]}),), interrupts=()),\n",
       " StateSnapshot(values={'messages': [HumanMessage(content=\"My name is Varun, I'm 30 years old\", additional_kwargs={}, response_metadata={}, id='7694f196-3180-4b0c-a3ce-baa346306573'), AIMessage(content='Nice to meet you, Varun! How can I assist you today?', additional_kwargs={'refusal': None}, response_metadata={'token_usage': {'completion_tokens': 16, 'prompt_tokens': 99, 'total_tokens': 115, 'completion_tokens_details': {'accepted_prediction_tokens': 0, 'audio_tokens': 0, 'reasoning_tokens': 0, 'rejected_prediction_tokens': 0}, 'prompt_tokens_details': {'audio_tokens': 0, 'cached_tokens': 0}}, 'model_name': 'gpt-4o-mini-2024-07-18', 'system_fingerprint': 'fp_34a54ae93c', 'id': 'chatcmpl-Bzg9DjIVEcdmsubGKTd5tg3meRX08', 'service_tier': 'default', 'finish_reason': 'stop', 'logprobs': None}, id='run--3fe43c49-7215-44c9-9f30-34e58de9277f-0', usage_metadata={'input_tokens': 99, 'output_tokens': 16, 'total_tokens': 115, 'input_token_details': {'audio': 0, 'cache_read': 0}, 'output_token_details': {'audio': 0, 'reasoning': 0}})]}, next=(), config={'configurable': {'thread_id': '1', 'checkpoint_ns': '', 'checkpoint_id': '1f06eb80-dbad-6440-8001-8c3f24915021'}}, metadata={'source': 'loop', 'step': 1, 'parents': {}}, created_at='2025-08-01T09:15:23.187095+00:00', parent_config={'configurable': {'thread_id': '1', 'checkpoint_ns': '', 'checkpoint_id': '1f06eb80-c8f2-652e-8000-9a4d33b5a1c8'}}, tasks=(), interrupts=()),\n",
       " StateSnapshot(values={'messages': [HumanMessage(content=\"My name is Varun, I'm 30 years old\", additional_kwargs={}, response_metadata={}, id='7694f196-3180-4b0c-a3ce-baa346306573')]}, next=('chatbot',), config={'configurable': {'thread_id': '1', 'checkpoint_ns': '', 'checkpoint_id': '1f06eb80-c8f2-652e-8000-9a4d33b5a1c8'}}, metadata={'source': 'loop', 'step': 0, 'parents': {}}, created_at='2025-08-01T09:15:21.223083+00:00', parent_config={'configurable': {'thread_id': '1', 'checkpoint_ns': '', 'checkpoint_id': '1f06eb80-c8ef-667e-bfff-d26c11ece3fd'}}, tasks=(PregelTask(id='5621e5d5-1f5b-a454-adf6-55780dc62b35', name='chatbot', path=('__pregel_pull', 'chatbot'), error=None, interrupts=(), state=None, result={'messages': [AIMessage(content='Nice to meet you, Varun! How can I assist you today?', additional_kwargs={'refusal': None}, response_metadata={'token_usage': {'completion_tokens': 16, 'prompt_tokens': 99, 'total_tokens': 115, 'completion_tokens_details': {'accepted_prediction_tokens': 0, 'audio_tokens': 0, 'reasoning_tokens': 0, 'rejected_prediction_tokens': 0}, 'prompt_tokens_details': {'audio_tokens': 0, 'cached_tokens': 0}}, 'model_name': 'gpt-4o-mini-2024-07-18', 'system_fingerprint': 'fp_34a54ae93c', 'id': 'chatcmpl-Bzg9DjIVEcdmsubGKTd5tg3meRX08', 'service_tier': 'default', 'finish_reason': 'stop', 'logprobs': None}, id='run--3fe43c49-7215-44c9-9f30-34e58de9277f-0', usage_metadata={'input_tokens': 99, 'output_tokens': 16, 'total_tokens': 115, 'input_token_details': {'audio': 0, 'cache_read': 0}, 'output_token_details': {'audio': 0, 'reasoning': 0}})]}),), interrupts=()),\n",
       " StateSnapshot(values={'messages': []}, next=('__start__',), config={'configurable': {'thread_id': '1', 'checkpoint_ns': '', 'checkpoint_id': '1f06eb80-c8ef-667e-bfff-d26c11ece3fd'}}, metadata={'source': 'input', 'step': -1, 'parents': {}}, created_at='2025-08-01T09:15:21.221880+00:00', parent_config=None, tasks=(PregelTask(id='ffa83303-7917-2b47-6ae9-3ddce7bb0b84', name='__start__', path=('__pregel_pull', '__start__'), error=None, interrupts=(), state=None, result={'messages': [{'role': 'user', 'content': \"My name is Varun, I'm 30 years old\"}]}),), interrupts=())]"
      ]
     },
     "execution_count": 14,
     "metadata": {},
     "output_type": "execute_result"
    }
   ],
   "source": [
    "# Most recent first\n",
    "\n",
    "list(graph.get_state_history(config))"
   ]
  },
  {
   "cell_type": "markdown",
   "metadata": {},
   "source": [
    "### LangGraph gives you tools to set the state back to a prior point in time, to branch off:\n",
    "\n",
    "```\n",
    "config = {\"configurable\": {\"thread_id\": \"1\", \"checkpoint_id\": ...}}\n",
    "graph.invoke(None, config=config)\n",
    "```\n",
    "\n",
    "And this allows you to build stable systems that can be recovered and rerun from any prior checkpoint."
   ]
  },
  {
   "cell_type": "markdown",
   "metadata": {},
   "source": [
    "### And now let's store in SQL\n",
    "\n",
    "### And this is the power of LangGraph."
   ]
  },
  {
   "cell_type": "code",
   "execution_count": 17,
   "metadata": {},
   "outputs": [],
   "source": [
    "\n",
    "import sqlite3\n",
    "from langgraph.checkpoint.sqlite import SqliteSaver\n",
    "\n",
    "db_path = \"memory.db\"\n",
    "conn = sqlite3.connect(db_path,check_same_thread=False)\n",
    "sql_memory=SqliteSaver(conn)"
   ]
  },
  {
   "cell_type": "code",
   "execution_count": 18,
   "metadata": {},
   "outputs": [
    {
     "data": {
      "image/png": "[encoded data removed]",
      "text/plain": [
       "<IPython.core.display.Image object>"
      ]
     },
     "metadata": {},
     "output_type": "display_data"
    }
   ],
   "source": [
    "# Steps 1 and 2\n",
    "graph_builder = StateGraph(State)\n",
    "\n",
    "# Step 3\n",
    "llm = ChatOpenAI(model=\"gpt-4o-mini\")\n",
    "llm_with_tools = llm.bind_tools(tools)\n",
    "\n",
    "def chatbot(state: State):\n",
    "    print(state)\n",
    "    return {\"messages\": [llm_with_tools.invoke(state[\"messages\"])]}\n",
    "\n",
    "graph_builder.add_node(\"chatbot\", chatbot)\n",
    "graph_builder.add_node(\"tools\", ToolNode(tools=tools))\n",
    "\n",
    "# Step 4\n",
    "graph_builder.add_conditional_edges( \"chatbot\", tools_condition, \"tools\")\n",
    "graph_builder.add_edge(\"tools\", \"chatbot\")\n",
    "graph_builder.add_edge(START, \"chatbot\")\n",
    "\n",
    "# Step 5\n",
    "graph = graph_builder.compile(checkpointer=sql_memory)\n",
    "display(Image(graph.get_graph().draw_mermaid_png()))\n",
    " "
   ]
  },
  {
   "cell_type": "code",
   "execution_count": null,
   "metadata": {},
   "outputs": [
    {
     "name": "stdout",
     "output_type": "stream",
     "text": [
      "* Running on local URL:  http://127.0.0.1:7861\n",
      "* To create a public link, set `share=True` in `launch()`.\n"
     ]
    },
    {
     "data": {
      "text/html": [
       "<div><iframe src=\"http://127.0.0.1:7861/\" width=\"100%\" height=\"500\" allow=\"autoplay; camera; microphone; clipboard-read; clipboard-write;\" frameborder=\"0\" allowfullscreen></iframe></div>"
      ],
      "text/plain": [
       "<IPython.core.display.HTML object>"
      ]
     },
     "metadata": {},
     "output_type": "display_data"
    },
    {
     "data": {
      "text/plain": []
     },
     "execution_count": 19,
     "metadata": {},
     "output_type": "execute_result"
    },
    {
     "name": "stdout",
     "output_type": "stream",
     "text": [
      "{'messages': [HumanMessage(content='hi there', additional_kwargs={}, response_metadata={}, id='d6144090-9963-438c-b21b-3fb4f06edbc0'), AIMessage(content='Hello! How can I assist you today?', additional_kwargs={'refusal': None}, response_metadata={'token_usage': {'completion_tokens': 11, 'prompt_tokens': 90, 'total_tokens': 101, 'completion_tokens_details': {'accepted_prediction_tokens': 0, 'audio_tokens': 0, 'reasoning_tokens': 0, 'rejected_prediction_tokens': 0}, 'prompt_tokens_details': {'audio_tokens': 0, 'cached_tokens': 0}}, 'model_name': 'gpt-4o-mini-2024-07-18', 'system_fingerprint': 'fp_b376dfbbd5', 'id': 'chatcmpl-BInN7JUnEYNTQqokCF3eihp5oKP0V', 'finish_reason': 'stop', 'logprobs': None}, id='run-4b488710-73ac-435e-a944-913a0c812d08-0', usage_metadata={'input_tokens': 90, 'output_tokens': 11, 'total_tokens': 101, 'input_token_details': {'audio': 0, 'cache_read': 0}, 'output_token_details': {'audio': 0, 'reasoning': 0}}), HumanMessage(content=\"what's my name\", additional_kwargs={}, response_metadata={}, id='0ee3236f-a0f8-487c-9e18-3a1a83e91d81'), AIMessage(content=\"I don't have access to personal information unless you provide it. What would you like me to call you?\", additional_kwargs={'refusal': None}, response_metadata={'token_usage': {'completion_tokens': 23, 'prompt_tokens': 111, 'total_tokens': 134, 'completion_tokens_details': {'accepted_prediction_tokens': 0, 'audio_tokens': 0, 'reasoning_tokens': 0, 'rejected_prediction_tokens': 0}, 'prompt_tokens_details': {'audio_tokens': 0, 'cached_tokens': 0}}, 'model_name': 'gpt-4o-mini-2024-07-18', 'system_fingerprint': 'fp_b376dfbbd5', 'id': 'chatcmpl-BInNEm0T32rf7Lx23sOvrcePfgL8d', 'finish_reason': 'stop', 'logprobs': None}, id='run-c12bd46c-0c94-475c-b281-89773b1947a2-0', usage_metadata={'input_tokens': 111, 'output_tokens': 23, 'total_tokens': 134, 'input_token_details': {'audio': 0, 'cache_read': 0}, 'output_token_details': {'audio': 0, 'reasoning': 0}}), HumanMessage(content=\"My name's Ed\", additional_kwargs={}, response_metadata={}, id='65e59191-b993-4faf-9699-197f70b79fcd'), AIMessage(content='Nice to meet you, Ed! How can I assist you today?', additional_kwargs={'refusal': None}, response_metadata={'token_usage': {'completion_tokens': 16, 'prompt_tokens': 144, 'total_tokens': 160, 'completion_tokens_details': {'accepted_prediction_tokens': 0, 'audio_tokens': 0, 'reasoning_tokens': 0, 'rejected_prediction_tokens': 0}, 'prompt_tokens_details': {'audio_tokens': 0, 'cached_tokens': 0}}, 'model_name': 'gpt-4o-mini-2024-07-18', 'system_fingerprint': 'fp_b376dfbbd5', 'id': 'chatcmpl-BInNLLW9Z5vrmr2MUfk6CLJBnCMOg', 'finish_reason': 'stop', 'logprobs': None}, id='run-68e08e4e-bc27-4802-b800-8fb359a5d976-0', usage_metadata={'input_tokens': 144, 'output_tokens': 16, 'total_tokens': 160, 'input_token_details': {'audio': 0, 'cache_read': 0}, 'output_token_details': {'audio': 0, 'reasoning': 0}}), HumanMessage(content='hi there', additional_kwargs={}, response_metadata={}, id='dfeeb914-53d6-404f-9a5c-0531f1fe43fe'), AIMessage(content='Hello again, Ed! How can I help you today?', additional_kwargs={'refusal': None}, response_metadata={'token_usage': {'completion_tokens': 14, 'prompt_tokens': 168, 'total_tokens': 182, 'completion_tokens_details': {'accepted_prediction_tokens': 0, 'audio_tokens': 0, 'reasoning_tokens': 0, 'rejected_prediction_tokens': 0}, 'prompt_tokens_details': {'audio_tokens': 0, 'cached_tokens': 0}}, 'model_name': 'gpt-4o-mini-2024-07-18', 'system_fingerprint': 'fp_b376dfbbd5', 'id': 'chatcmpl-BInOS7TKECQA9Trbcv3mBsxkVJ8c3', 'finish_reason': 'stop', 'logprobs': None}, id='run-8b9e7d2c-d34d-4d84-99d2-dcb6b26b84bf-0', usage_metadata={'input_tokens': 168, 'output_tokens': 14, 'total_tokens': 182, 'input_token_details': {'audio': 0, 'cache_read': 0}, 'output_token_details': {'audio': 0, 'reasoning': 0}}), HumanMessage(content='please send me a push notification with the current usd/gbp exchange rate', additional_kwargs={}, response_metadata={}, id='6e096518-8d44-40e9-8aba-bf5027dac79c'), AIMessage(content='', additional_kwargs={'tool_calls': [{'id': 'call_mFP2QpmSUYlvqjz3HBvRv0Cv', 'function': {'arguments': '{\"__arg1\":\"current USD to GBP exchange rate\"}', 'name': 'search'}, 'type': 'function'}], 'refusal': None}, response_metadata={'token_usage': {'completion_tokens': 21, 'prompt_tokens': 203, 'total_tokens': 224, 'completion_tokens_details': {'accepted_prediction_tokens': 0, 'audio_tokens': 0, 'reasoning_tokens': 0, 'rejected_prediction_tokens': 0}, 'prompt_tokens_details': {'audio_tokens': 0, 'cached_tokens': 0}}, 'model_name': 'gpt-4o-mini-2024-07-18', 'system_fingerprint': 'fp_b376dfbbd5', 'id': 'chatcmpl-BInShCTgCsggydsrv3MmpIXLyvzGF', 'finish_reason': 'tool_calls', 'logprobs': None}, id='run-1bc3e47d-30c5-40f4-a9da-42dd24e74732-0', tool_calls=[{'name': 'search', 'args': {'__arg1': 'current USD to GBP exchange rate'}, 'id': 'call_mFP2QpmSUYlvqjz3HBvRv0Cv', 'type': 'tool_call'}], usage_metadata={'input_tokens': 203, 'output_tokens': 21, 'total_tokens': 224, 'input_token_details': {'audio': 0, 'cache_read': 0}, 'output_token_details': {'audio': 0, 'reasoning': 0}}), ToolMessage(content='0.78 Pound sterling', name='search', id='04044643-e40a-4bda-a03c-bc80949d039c', tool_call_id='call_mFP2QpmSUYlvqjz3HBvRv0Cv'), AIMessage(content='', additional_kwargs={'tool_calls': [{'id': 'call_2RByu6cFdwow5BWX8eblN402', 'function': {'arguments': '{\"__arg1\":\"The current USD/GBP exchange rate is 0.78.\"}', 'name': 'send_push_notification'}, 'type': 'function'}], 'refusal': None}, response_metadata={'token_usage': {'completion_tokens': 30, 'prompt_tokens': 235, 'total_tokens': 265, 'completion_tokens_details': {'accepted_prediction_tokens': 0, 'audio_tokens': 0, 'reasoning_tokens': 0, 'rejected_prediction_tokens': 0}, 'prompt_tokens_details': {'audio_tokens': 0, 'cached_tokens': 0}}, 'model_name': 'gpt-4o-mini-2024-07-18', 'system_fingerprint': 'fp_b376dfbbd5', 'id': 'chatcmpl-BInSjgdmKJqByJ2VIxpCZE5vEQpep', 'finish_reason': 'tool_calls', 'logprobs': None}, id='run-030db0cd-4acc-4354-aa65-ae772d33be07-0', tool_calls=[{'name': 'send_push_notification', 'args': {'__arg1': 'The current USD/GBP exchange rate is 0.78.'}, 'id': 'call_2RByu6cFdwow5BWX8eblN402', 'type': 'tool_call'}], usage_metadata={'input_tokens': 235, 'output_tokens': 30, 'total_tokens': 265, 'input_token_details': {'audio': 0, 'cache_read': 0}, 'output_token_details': {'audio': 0, 'reasoning': 0}}), ToolMessage(content='null', name='send_push_notification', id='f16f6e9d-2d0e-4aca-991f-0d9fe7064574', tool_call_id='call_2RByu6cFdwow5BWX8eblN402'), AIMessage(content=\"I've sent you a push notification with the current USD/GBP exchange rate: 0.78. If you need anything else, just let me know!\", additional_kwargs={'refusal': None}, response_metadata={'token_usage': {'completion_tokens': 33, 'prompt_tokens': 274, 'total_tokens': 307, 'completion_tokens_details': {'accepted_prediction_tokens': 0, 'audio_tokens': 0, 'reasoning_tokens': 0, 'rejected_prediction_tokens': 0}, 'prompt_tokens_details': {'audio_tokens': 0, 'cached_tokens': 0}}, 'model_name': 'gpt-4o-mini-2024-07-18', 'system_fingerprint': 'fp_b376dfbbd5', 'id': 'chatcmpl-BInSk4W7o3wDEZhzLtixtWOVgEw4Y', 'finish_reason': 'stop', 'logprobs': None}, id='run-bc27a847-b5bf-4565-85af-8e3163f2c271-0', usage_metadata={'input_tokens': 274, 'output_tokens': 33, 'total_tokens': 307, 'input_token_details': {'audio': 0, 'cache_read': 0}, 'output_token_details': {'audio': 0, 'reasoning': 0}}), HumanMessage(content='can you send that push notification again please', additional_kwargs={}, response_metadata={}, id='328adc3d-8c39-4312-952c-3d3b87d5f736'), AIMessage(content='', additional_kwargs={'tool_calls': [{'id': 'call_9xFtRNwSPl00BBRdY3VGdZ9Y', 'function': {'arguments': '{\"__arg1\":\"The current USD/GBP exchange rate is 0.78.\"}', 'name': 'send_push_notification'}, 'type': 'function'}], 'refusal': None}, response_metadata={'token_usage': {'completion_tokens': 30, 'prompt_tokens': 321, 'total_tokens': 351, 'completion_tokens_details': {'accepted_prediction_tokens': 0, 'audio_tokens': 0, 'reasoning_tokens': 0, 'rejected_prediction_tokens': 0}, 'prompt_tokens_details': {'audio_tokens': 0, 'cached_tokens': 0}}, 'model_name': 'gpt-4o-mini-2024-07-18', 'system_fingerprint': 'fp_b376dfbbd5', 'id': 'chatcmpl-BInTHUIOvZ0DAwfqnVlb1SRlaKHmH', 'finish_reason': 'tool_calls', 'logprobs': None}, id='run-a2225381-34da-44b4-9e8d-45a0b8c29693-0', tool_calls=[{'name': 'send_push_notification', 'args': {'__arg1': 'The current USD/GBP exchange rate is 0.78.'}, 'id': 'call_9xFtRNwSPl00BBRdY3VGdZ9Y', 'type': 'tool_call'}], usage_metadata={'input_tokens': 321, 'output_tokens': 30, 'total_tokens': 351, 'input_token_details': {'audio': 0, 'cache_read': 0}, 'output_token_details': {'audio': 0, 'reasoning': 0}}), ToolMessage(content='null', name='send_push_notification', id='433985ee-9eeb-4b4b-866e-23cfc0f8e9fb', tool_call_id='call_9xFtRNwSPl00BBRdY3VGdZ9Y'), AIMessage(content=\"I've sent the push notification again with the current USD/GBP exchange rate: 0.78. If there's anything else you need, feel free to ask!\", additional_kwargs={'refusal': None}, response_metadata={'token_usage': {'completion_tokens': 34, 'prompt_tokens': 360, 'total_tokens': 394, 'completion_tokens_details': {'accepted_prediction_tokens': 0, 'audio_tokens': 0, 'reasoning_tokens': 0, 'rejected_prediction_tokens': 0}, 'prompt_tokens_details': {'audio_tokens': 0, 'cached_tokens': 0}}, 'model_name': 'gpt-4o-mini-2024-07-18', 'system_fingerprint': 'fp_b376dfbbd5', 'id': 'chatcmpl-BInTJ24F3iaC2JFCLGFb715HxeWU9', 'finish_reason': 'stop', 'logprobs': None}, id='run-eda57a8e-26a4-4aed-a3c6-ce404e2d5cfa-0', usage_metadata={'input_tokens': 360, 'output_tokens': 34, 'total_tokens': 394, 'input_token_details': {'audio': 0, 'cache_read': 0}, 'output_token_details': {'audio': 0, 'reasoning': 0}}), HumanMessage(content=\"My name's varun and i'm 20 years old\", additional_kwargs={}, response_metadata={}, id='6d1a9828-b1d2-4592-a2d1-8180c1290af4')]}\n",
      "{'messages': [HumanMessage(content='hi there', additional_kwargs={}, response_metadata={}, id='d6144090-9963-438c-b21b-3fb4f06edbc0'), AIMessage(content='Hello! How can I assist you today?', additional_kwargs={'refusal': None}, response_metadata={'token_usage': {'completion_tokens': 11, 'prompt_tokens': 90, 'total_tokens': 101, 'completion_tokens_details': {'accepted_prediction_tokens': 0, 'audio_tokens': 0, 'reasoning_tokens': 0, 'rejected_prediction_tokens': 0}, 'prompt_tokens_details': {'audio_tokens': 0, 'cached_tokens': 0}}, 'model_name': 'gpt-4o-mini-2024-07-18', 'system_fingerprint': 'fp_b376dfbbd5', 'id': 'chatcmpl-BInN7JUnEYNTQqokCF3eihp5oKP0V', 'finish_reason': 'stop', 'logprobs': None}, id='run-4b488710-73ac-435e-a944-913a0c812d08-0', usage_metadata={'input_tokens': 90, 'output_tokens': 11, 'total_tokens': 101, 'input_token_details': {'audio': 0, 'cache_read': 0}, 'output_token_details': {'audio': 0, 'reasoning': 0}}), HumanMessage(content=\"what's my name\", additional_kwargs={}, response_metadata={}, id='0ee3236f-a0f8-487c-9e18-3a1a83e91d81'), AIMessage(content=\"I don't have access to personal information unless you provide it. What would you like me to call you?\", additional_kwargs={'refusal': None}, response_metadata={'token_usage': {'completion_tokens': 23, 'prompt_tokens': 111, 'total_tokens': 134, 'completion_tokens_details': {'accepted_prediction_tokens': 0, 'audio_tokens': 0, 'reasoning_tokens': 0, 'rejected_prediction_tokens': 0}, 'prompt_tokens_details': {'audio_tokens': 0, 'cached_tokens': 0}}, 'model_name': 'gpt-4o-mini-2024-07-18', 'system_fingerprint': 'fp_b376dfbbd5', 'id': 'chatcmpl-BInNEm0T32rf7Lx23sOvrcePfgL8d', 'finish_reason': 'stop', 'logprobs': None}, id='run-c12bd46c-0c94-475c-b281-89773b1947a2-0', usage_metadata={'input_tokens': 111, 'output_tokens': 23, 'total_tokens': 134, 'input_token_details': {'audio': 0, 'cache_read': 0}, 'output_token_details': {'audio': 0, 'reasoning': 0}}), HumanMessage(content=\"My name's Ed\", additional_kwargs={}, response_metadata={}, id='65e59191-b993-4faf-9699-197f70b79fcd'), AIMessage(content='Nice to meet you, Ed! How can I assist you today?', additional_kwargs={'refusal': None}, response_metadata={'token_usage': {'completion_tokens': 16, 'prompt_tokens': 144, 'total_tokens': 160, 'completion_tokens_details': {'accepted_prediction_tokens': 0, 'audio_tokens': 0, 'reasoning_tokens': 0, 'rejected_prediction_tokens': 0}, 'prompt_tokens_details': {'audio_tokens': 0, 'cached_tokens': 0}}, 'model_name': 'gpt-4o-mini-2024-07-18', 'system_fingerprint': 'fp_b376dfbbd5', 'id': 'chatcmpl-BInNLLW9Z5vrmr2MUfk6CLJBnCMOg', 'finish_reason': 'stop', 'logprobs': None}, id='run-68e08e4e-bc27-4802-b800-8fb359a5d976-0', usage_metadata={'input_tokens': 144, 'output_tokens': 16, 'total_tokens': 160, 'input_token_details': {'audio': 0, 'cache_read': 0}, 'output_token_details': {'audio': 0, 'reasoning': 0}}), HumanMessage(content='hi there', additional_kwargs={}, response_metadata={}, id='dfeeb914-53d6-404f-9a5c-0531f1fe43fe'), AIMessage(content='Hello again, Ed! How can I help you today?', additional_kwargs={'refusal': None}, response_metadata={'token_usage': {'completion_tokens': 14, 'prompt_tokens': 168, 'total_tokens': 182, 'completion_tokens_details': {'accepted_prediction_tokens': 0, 'audio_tokens': 0, 'reasoning_tokens': 0, 'rejected_prediction_tokens': 0}, 'prompt_tokens_details': {'audio_tokens': 0, 'cached_tokens': 0}}, 'model_name': 'gpt-4o-mini-2024-07-18', 'system_fingerprint': 'fp_b376dfbbd5', 'id': 'chatcmpl-BInOS7TKECQA9Trbcv3mBsxkVJ8c3', 'finish_reason': 'stop', 'logprobs': None}, id='run-8b9e7d2c-d34d-4d84-99d2-dcb6b26b84bf-0', usage_metadata={'input_tokens': 168, 'output_tokens': 14, 'total_tokens': 182, 'input_token_details': {'audio': 0, 'cache_read': 0}, 'output_token_details': {'audio': 0, 'reasoning': 0}}), HumanMessage(content='please send me a push notification with the current usd/gbp exchange rate', additional_kwargs={}, response_metadata={}, id='6e096518-8d44-40e9-8aba-bf5027dac79c'), AIMessage(content='', additional_kwargs={'tool_calls': [{'id': 'call_mFP2QpmSUYlvqjz3HBvRv0Cv', 'function': {'arguments': '{\"__arg1\":\"current USD to GBP exchange rate\"}', 'name': 'search'}, 'type': 'function'}], 'refusal': None}, response_metadata={'token_usage': {'completion_tokens': 21, 'prompt_tokens': 203, 'total_tokens': 224, 'completion_tokens_details': {'accepted_prediction_tokens': 0, 'audio_tokens': 0, 'reasoning_tokens': 0, 'rejected_prediction_tokens': 0}, 'prompt_tokens_details': {'audio_tokens': 0, 'cached_tokens': 0}}, 'model_name': 'gpt-4o-mini-2024-07-18', 'system_fingerprint': 'fp_b376dfbbd5', 'id': 'chatcmpl-BInShCTgCsggydsrv3MmpIXLyvzGF', 'finish_reason': 'tool_calls', 'logprobs': None}, id='run-1bc3e47d-30c5-40f4-a9da-42dd24e74732-0', tool_calls=[{'name': 'search', 'args': {'__arg1': 'current USD to GBP exchange rate'}, 'id': 'call_mFP2QpmSUYlvqjz3HBvRv0Cv', 'type': 'tool_call'}], usage_metadata={'input_tokens': 203, 'output_tokens': 21, 'total_tokens': 224, 'input_token_details': {'audio': 0, 'cache_read': 0}, 'output_token_details': {'audio': 0, 'reasoning': 0}}), ToolMessage(content='0.78 Pound sterling', name='search', id='04044643-e40a-4bda-a03c-bc80949d039c', tool_call_id='call_mFP2QpmSUYlvqjz3HBvRv0Cv'), AIMessage(content='', additional_kwargs={'tool_calls': [{'id': 'call_2RByu6cFdwow5BWX8eblN402', 'function': {'arguments': '{\"__arg1\":\"The current USD/GBP exchange rate is 0.78.\"}', 'name': 'send_push_notification'}, 'type': 'function'}], 'refusal': None}, response_metadata={'token_usage': {'completion_tokens': 30, 'prompt_tokens': 235, 'total_tokens': 265, 'completion_tokens_details': {'accepted_prediction_tokens': 0, 'audio_tokens': 0, 'reasoning_tokens': 0, 'rejected_prediction_tokens': 0}, 'prompt_tokens_details': {'audio_tokens': 0, 'cached_tokens': 0}}, 'model_name': 'gpt-4o-mini-2024-07-18', 'system_fingerprint': 'fp_b376dfbbd5', 'id': 'chatcmpl-BInSjgdmKJqByJ2VIxpCZE5vEQpep', 'finish_reason': 'tool_calls', 'logprobs': None}, id='run-030db0cd-4acc-4354-aa65-ae772d33be07-0', tool_calls=[{'name': 'send_push_notification', 'args': {'__arg1': 'The current USD/GBP exchange rate is 0.78.'}, 'id': 'call_2RByu6cFdwow5BWX8eblN402', 'type': 'tool_call'}], usage_metadata={'input_tokens': 235, 'output_tokens': 30, 'total_tokens': 265, 'input_token_details': {'audio': 0, 'cache_read': 0}, 'output_token_details': {'audio': 0, 'reasoning': 0}}), ToolMessage(content='null', name='send_push_notification', id='f16f6e9d-2d0e-4aca-991f-0d9fe7064574', tool_call_id='call_2RByu6cFdwow5BWX8eblN402'), AIMessage(content=\"I've sent you a push notification with the current USD/GBP exchange rate: 0.78. If you need anything else, just let me know!\", additional_kwargs={'refusal': None}, response_metadata={'token_usage': {'completion_tokens': 33, 'prompt_tokens': 274, 'total_tokens': 307, 'completion_tokens_details': {'accepted_prediction_tokens': 0, 'audio_tokens': 0, 'reasoning_tokens': 0, 'rejected_prediction_tokens': 0}, 'prompt_tokens_details': {'audio_tokens': 0, 'cached_tokens': 0}}, 'model_name': 'gpt-4o-mini-2024-07-18', 'system_fingerprint': 'fp_b376dfbbd5', 'id': 'chatcmpl-BInSk4W7o3wDEZhzLtixtWOVgEw4Y', 'finish_reason': 'stop', 'logprobs': None}, id='run-bc27a847-b5bf-4565-85af-8e3163f2c271-0', usage_metadata={'input_tokens': 274, 'output_tokens': 33, 'total_tokens': 307, 'input_token_details': {'audio': 0, 'cache_read': 0}, 'output_token_details': {'audio': 0, 'reasoning': 0}}), HumanMessage(content='can you send that push notification again please', additional_kwargs={}, response_metadata={}, id='328adc3d-8c39-4312-952c-3d3b87d5f736'), AIMessage(content='', additional_kwargs={'tool_calls': [{'id': 'call_9xFtRNwSPl00BBRdY3VGdZ9Y', 'function': {'arguments': '{\"__arg1\":\"The current USD/GBP exchange rate is 0.78.\"}', 'name': 'send_push_notification'}, 'type': 'function'}], 'refusal': None}, response_metadata={'token_usage': {'completion_tokens': 30, 'prompt_tokens': 321, 'total_tokens': 351, 'completion_tokens_details': {'accepted_prediction_tokens': 0, 'audio_tokens': 0, 'reasoning_tokens': 0, 'rejected_prediction_tokens': 0}, 'prompt_tokens_details': {'audio_tokens': 0, 'cached_tokens': 0}}, 'model_name': 'gpt-4o-mini-2024-07-18', 'system_fingerprint': 'fp_b376dfbbd5', 'id': 'chatcmpl-BInTHUIOvZ0DAwfqnVlb1SRlaKHmH', 'finish_reason': 'tool_calls', 'logprobs': None}, id='run-a2225381-34da-44b4-9e8d-45a0b8c29693-0', tool_calls=[{'name': 'send_push_notification', 'args': {'__arg1': 'The current USD/GBP exchange rate is 0.78.'}, 'id': 'call_9xFtRNwSPl00BBRdY3VGdZ9Y', 'type': 'tool_call'}], usage_metadata={'input_tokens': 321, 'output_tokens': 30, 'total_tokens': 351, 'input_token_details': {'audio': 0, 'cache_read': 0}, 'output_token_details': {'audio': 0, 'reasoning': 0}}), ToolMessage(content='null', name='send_push_notification', id='433985ee-9eeb-4b4b-866e-23cfc0f8e9fb', tool_call_id='call_9xFtRNwSPl00BBRdY3VGdZ9Y'), AIMessage(content=\"I've sent the push notification again with the current USD/GBP exchange rate: 0.78. If there's anything else you need, feel free to ask!\", additional_kwargs={'refusal': None}, response_metadata={'token_usage': {'completion_tokens': 34, 'prompt_tokens': 360, 'total_tokens': 394, 'completion_tokens_details': {'accepted_prediction_tokens': 0, 'audio_tokens': 0, 'reasoning_tokens': 0, 'rejected_prediction_tokens': 0}, 'prompt_tokens_details': {'audio_tokens': 0, 'cached_tokens': 0}}, 'model_name': 'gpt-4o-mini-2024-07-18', 'system_fingerprint': 'fp_b376dfbbd5', 'id': 'chatcmpl-BInTJ24F3iaC2JFCLGFb715HxeWU9', 'finish_reason': 'stop', 'logprobs': None}, id='run-eda57a8e-26a4-4aed-a3c6-ce404e2d5cfa-0', usage_metadata={'input_tokens': 360, 'output_tokens': 34, 'total_tokens': 394, 'input_token_details': {'audio': 0, 'cache_read': 0}, 'output_token_details': {'audio': 0, 'reasoning': 0}}), HumanMessage(content=\"My name's varun and i'm 20 years old\", additional_kwargs={}, response_metadata={}, id='6d1a9828-b1d2-4592-a2d1-8180c1290af4'), AIMessage(content='Nice to meet you, Varun! If you have any questions or need assistance, feel free to let me know!', additional_kwargs={'refusal': None}, response_metadata={'token_usage': {'completion_tokens': 25, 'prompt_tokens': 411, 'total_tokens': 436, 'completion_tokens_details': {'accepted_prediction_tokens': 0, 'audio_tokens': 0, 'reasoning_tokens': 0, 'rejected_prediction_tokens': 0}, 'prompt_tokens_details': {'audio_tokens': 0, 'cached_tokens': 0}}, 'model_name': 'gpt-4o-mini-2024-07-18', 'system_fingerprint': 'fp_34a54ae93c', 'id': 'chatcmpl-BzghuD8HR6EBGe7g5lAemgyhdO8Fo', 'service_tier': 'default', 'finish_reason': 'stop', 'logprobs': None}, id='run--8b1661b8-35bb-4c9a-b04b-1d04cedcba1f-0', usage_metadata={'input_tokens': 411, 'output_tokens': 25, 'total_tokens': 436, 'input_token_details': {'audio': 0, 'cache_read': 0}, 'output_token_details': {'audio': 0, 'reasoning': 0}}), HumanMessage(content='please send me a push notification with current USD/INR exchange rate', additional_kwargs={}, response_metadata={}, id='60985eee-fd43-4ed4-9c5c-759d7cb6ea1c')]}\n",
      "{'messages': [HumanMessage(content='hi there', additional_kwargs={}, response_metadata={}, id='d6144090-9963-438c-b21b-3fb4f06edbc0'), AIMessage(content='Hello! How can I assist you today?', additional_kwargs={'refusal': None}, response_metadata={'token_usage': {'completion_tokens': 11, 'prompt_tokens': 90, 'total_tokens': 101, 'completion_tokens_details': {'accepted_prediction_tokens': 0, 'audio_tokens': 0, 'reasoning_tokens': 0, 'rejected_prediction_tokens': 0}, 'prompt_tokens_details': {'audio_tokens': 0, 'cached_tokens': 0}}, 'model_name': 'gpt-4o-mini-2024-07-18', 'system_fingerprint': 'fp_b376dfbbd5', 'id': 'chatcmpl-BInN7JUnEYNTQqokCF3eihp5oKP0V', 'finish_reason': 'stop', 'logprobs': None}, id='run-4b488710-73ac-435e-a944-913a0c812d08-0', usage_metadata={'input_tokens': 90, 'output_tokens': 11, 'total_tokens': 101, 'input_token_details': {'audio': 0, 'cache_read': 0}, 'output_token_details': {'audio': 0, 'reasoning': 0}}), HumanMessage(content=\"what's my name\", additional_kwargs={}, response_metadata={}, id='0ee3236f-a0f8-487c-9e18-3a1a83e91d81'), AIMessage(content=\"I don't have access to personal information unless you provide it. What would you like me to call you?\", additional_kwargs={'refusal': None}, response_metadata={'token_usage': {'completion_tokens': 23, 'prompt_tokens': 111, 'total_tokens': 134, 'completion_tokens_details': {'accepted_prediction_tokens': 0, 'audio_tokens': 0, 'reasoning_tokens': 0, 'rejected_prediction_tokens': 0}, 'prompt_tokens_details': {'audio_tokens': 0, 'cached_tokens': 0}}, 'model_name': 'gpt-4o-mini-2024-07-18', 'system_fingerprint': 'fp_b376dfbbd5', 'id': 'chatcmpl-BInNEm0T32rf7Lx23sOvrcePfgL8d', 'finish_reason': 'stop', 'logprobs': None}, id='run-c12bd46c-0c94-475c-b281-89773b1947a2-0', usage_metadata={'input_tokens': 111, 'output_tokens': 23, 'total_tokens': 134, 'input_token_details': {'audio': 0, 'cache_read': 0}, 'output_token_details': {'audio': 0, 'reasoning': 0}}), HumanMessage(content=\"My name's Ed\", additional_kwargs={}, response_metadata={}, id='65e59191-b993-4faf-9699-197f70b79fcd'), AIMessage(content='Nice to meet you, Ed! How can I assist you today?', additional_kwargs={'refusal': None}, response_metadata={'token_usage': {'completion_tokens': 16, 'prompt_tokens': 144, 'total_tokens': 160, 'completion_tokens_details': {'accepted_prediction_tokens': 0, 'audio_tokens': 0, 'reasoning_tokens': 0, 'rejected_prediction_tokens': 0}, 'prompt_tokens_details': {'audio_tokens': 0, 'cached_tokens': 0}}, 'model_name': 'gpt-4o-mini-2024-07-18', 'system_fingerprint': 'fp_b376dfbbd5', 'id': 'chatcmpl-BInNLLW9Z5vrmr2MUfk6CLJBnCMOg', 'finish_reason': 'stop', 'logprobs': None}, id='run-68e08e4e-bc27-4802-b800-8fb359a5d976-0', usage_metadata={'input_tokens': 144, 'output_tokens': 16, 'total_tokens': 160, 'input_token_details': {'audio': 0, 'cache_read': 0}, 'output_token_details': {'audio': 0, 'reasoning': 0}}), HumanMessage(content='hi there', additional_kwargs={}, response_metadata={}, id='dfeeb914-53d6-404f-9a5c-0531f1fe43fe'), AIMessage(content='Hello again, Ed! How can I help you today?', additional_kwargs={'refusal': None}, response_metadata={'token_usage': {'completion_tokens': 14, 'prompt_tokens': 168, 'total_tokens': 182, 'completion_tokens_details': {'accepted_prediction_tokens': 0, 'audio_tokens': 0, 'reasoning_tokens': 0, 'rejected_prediction_tokens': 0}, 'prompt_tokens_details': {'audio_tokens': 0, 'cached_tokens': 0}}, 'model_name': 'gpt-4o-mini-2024-07-18', 'system_fingerprint': 'fp_b376dfbbd5', 'id': 'chatcmpl-BInOS7TKECQA9Trbcv3mBsxkVJ8c3', 'finish_reason': 'stop', 'logprobs': None}, id='run-8b9e7d2c-d34d-4d84-99d2-dcb6b26b84bf-0', usage_metadata={'input_tokens': 168, 'output_tokens': 14, 'total_tokens': 182, 'input_token_details': {'audio': 0, 'cache_read': 0}, 'output_token_details': {'audio': 0, 'reasoning': 0}}), HumanMessage(content='please send me a push notification with the current usd/gbp exchange rate', additional_kwargs={}, response_metadata={}, id='6e096518-8d44-40e9-8aba-bf5027dac79c'), AIMessage(content='', additional_kwargs={'tool_calls': [{'id': 'call_mFP2QpmSUYlvqjz3HBvRv0Cv', 'function': {'arguments': '{\"__arg1\":\"current USD to GBP exchange rate\"}', 'name': 'search'}, 'type': 'function'}], 'refusal': None}, response_metadata={'token_usage': {'completion_tokens': 21, 'prompt_tokens': 203, 'total_tokens': 224, 'completion_tokens_details': {'accepted_prediction_tokens': 0, 'audio_tokens': 0, 'reasoning_tokens': 0, 'rejected_prediction_tokens': 0}, 'prompt_tokens_details': {'audio_tokens': 0, 'cached_tokens': 0}}, 'model_name': 'gpt-4o-mini-2024-07-18', 'system_fingerprint': 'fp_b376dfbbd5', 'id': 'chatcmpl-BInShCTgCsggydsrv3MmpIXLyvzGF', 'finish_reason': 'tool_calls', 'logprobs': None}, id='run-1bc3e47d-30c5-40f4-a9da-42dd24e74732-0', tool_calls=[{'name': 'search', 'args': {'__arg1': 'current USD to GBP exchange rate'}, 'id': 'call_mFP2QpmSUYlvqjz3HBvRv0Cv', 'type': 'tool_call'}], usage_metadata={'input_tokens': 203, 'output_tokens': 21, 'total_tokens': 224, 'input_token_details': {'audio': 0, 'cache_read': 0}, 'output_token_details': {'audio': 0, 'reasoning': 0}}), ToolMessage(content='0.78 Pound sterling', name='search', id='04044643-e40a-4bda-a03c-bc80949d039c', tool_call_id='call_mFP2QpmSUYlvqjz3HBvRv0Cv'), AIMessage(content='', additional_kwargs={'tool_calls': [{'id': 'call_2RByu6cFdwow5BWX8eblN402', 'function': {'arguments': '{\"__arg1\":\"The current USD/GBP exchange rate is 0.78.\"}', 'name': 'send_push_notification'}, 'type': 'function'}], 'refusal': None}, response_metadata={'token_usage': {'completion_tokens': 30, 'prompt_tokens': 235, 'total_tokens': 265, 'completion_tokens_details': {'accepted_prediction_tokens': 0, 'audio_tokens': 0, 'reasoning_tokens': 0, 'rejected_prediction_tokens': 0}, 'prompt_tokens_details': {'audio_tokens': 0, 'cached_tokens': 0}}, 'model_name': 'gpt-4o-mini-2024-07-18', 'system_fingerprint': 'fp_b376dfbbd5', 'id': 'chatcmpl-BInSjgdmKJqByJ2VIxpCZE5vEQpep', 'finish_reason': 'tool_calls', 'logprobs': None}, id='run-030db0cd-4acc-4354-aa65-ae772d33be07-0', tool_calls=[{'name': 'send_push_notification', 'args': {'__arg1': 'The current USD/GBP exchange rate is 0.78.'}, 'id': 'call_2RByu6cFdwow5BWX8eblN402', 'type': 'tool_call'}], usage_metadata={'input_tokens': 235, 'output_tokens': 30, 'total_tokens': 265, 'input_token_details': {'audio': 0, 'cache_read': 0}, 'output_token_details': {'audio': 0, 'reasoning': 0}}), ToolMessage(content='null', name='send_push_notification', id='f16f6e9d-2d0e-4aca-991f-0d9fe7064574', tool_call_id='call_2RByu6cFdwow5BWX8eblN402'), AIMessage(content=\"I've sent you a push notification with the current USD/GBP exchange rate: 0.78. If you need anything else, just let me know!\", additional_kwargs={'refusal': None}, response_metadata={'token_usage': {'completion_tokens': 33, 'prompt_tokens': 274, 'total_tokens': 307, 'completion_tokens_details': {'accepted_prediction_tokens': 0, 'audio_tokens': 0, 'reasoning_tokens': 0, 'rejected_prediction_tokens': 0}, 'prompt_tokens_details': {'audio_tokens': 0, 'cached_tokens': 0}}, 'model_name': 'gpt-4o-mini-2024-07-18', 'system_fingerprint': 'fp_b376dfbbd5', 'id': 'chatcmpl-BInSk4W7o3wDEZhzLtixtWOVgEw4Y', 'finish_reason': 'stop', 'logprobs': None}, id='run-bc27a847-b5bf-4565-85af-8e3163f2c271-0', usage_metadata={'input_tokens': 274, 'output_tokens': 33, 'total_tokens': 307, 'input_token_details': {'audio': 0, 'cache_read': 0}, 'output_token_details': {'audio': 0, 'reasoning': 0}}), HumanMessage(content='can you send that push notification again please', additional_kwargs={}, response_metadata={}, id='328adc3d-8c39-4312-952c-3d3b87d5f736'), AIMessage(content='', additional_kwargs={'tool_calls': [{'id': 'call_9xFtRNwSPl00BBRdY3VGdZ9Y', 'function': {'arguments': '{\"__arg1\":\"The current USD/GBP exchange rate is 0.78.\"}', 'name': 'send_push_notification'}, 'type': 'function'}], 'refusal': None}, response_metadata={'token_usage': {'completion_tokens': 30, 'prompt_tokens': 321, 'total_tokens': 351, 'completion_tokens_details': {'accepted_prediction_tokens': 0, 'audio_tokens': 0, 'reasoning_tokens': 0, 'rejected_prediction_tokens': 0}, 'prompt_tokens_details': {'audio_tokens': 0, 'cached_tokens': 0}}, 'model_name': 'gpt-4o-mini-2024-07-18', 'system_fingerprint': 'fp_b376dfbbd5', 'id': 'chatcmpl-BInTHUIOvZ0DAwfqnVlb1SRlaKHmH', 'finish_reason': 'tool_calls', 'logprobs': None}, id='run-a2225381-34da-44b4-9e8d-45a0b8c29693-0', tool_calls=[{'name': 'send_push_notification', 'args': {'__arg1': 'The current USD/GBP exchange rate is 0.78.'}, 'id': 'call_9xFtRNwSPl00BBRdY3VGdZ9Y', 'type': 'tool_call'}], usage_metadata={'input_tokens': 321, 'output_tokens': 30, 'total_tokens': 351, 'input_token_details': {'audio': 0, 'cache_read': 0}, 'output_token_details': {'audio': 0, 'reasoning': 0}}), ToolMessage(content='null', name='send_push_notification', id='433985ee-9eeb-4b4b-866e-23cfc0f8e9fb', tool_call_id='call_9xFtRNwSPl00BBRdY3VGdZ9Y'), AIMessage(content=\"I've sent the push notification again with the current USD/GBP exchange rate: 0.78. If there's anything else you need, feel free to ask!\", additional_kwargs={'refusal': None}, response_metadata={'token_usage': {'completion_tokens': 34, 'prompt_tokens': 360, 'total_tokens': 394, 'completion_tokens_details': {'accepted_prediction_tokens': 0, 'audio_tokens': 0, 'reasoning_tokens': 0, 'rejected_prediction_tokens': 0}, 'prompt_tokens_details': {'audio_tokens': 0, 'cached_tokens': 0}}, 'model_name': 'gpt-4o-mini-2024-07-18', 'system_fingerprint': 'fp_b376dfbbd5', 'id': 'chatcmpl-BInTJ24F3iaC2JFCLGFb715HxeWU9', 'finish_reason': 'stop', 'logprobs': None}, id='run-eda57a8e-26a4-4aed-a3c6-ce404e2d5cfa-0', usage_metadata={'input_tokens': 360, 'output_tokens': 34, 'total_tokens': 394, 'input_token_details': {'audio': 0, 'cache_read': 0}, 'output_token_details': {'audio': 0, 'reasoning': 0}}), HumanMessage(content=\"My name's varun and i'm 20 years old\", additional_kwargs={}, response_metadata={}, id='6d1a9828-b1d2-4592-a2d1-8180c1290af4'), AIMessage(content='Nice to meet you, Varun! If you have any questions or need assistance, feel free to let me know!', additional_kwargs={'refusal': None}, response_metadata={'token_usage': {'completion_tokens': 25, 'prompt_tokens': 411, 'total_tokens': 436, 'completion_tokens_details': {'accepted_prediction_tokens': 0, 'audio_tokens': 0, 'reasoning_tokens': 0, 'rejected_prediction_tokens': 0}, 'prompt_tokens_details': {'audio_tokens': 0, 'cached_tokens': 0}}, 'model_name': 'gpt-4o-mini-2024-07-18', 'system_fingerprint': 'fp_34a54ae93c', 'id': 'chatcmpl-BzghuD8HR6EBGe7g5lAemgyhdO8Fo', 'service_tier': 'default', 'finish_reason': 'stop', 'logprobs': None}, id='run--8b1661b8-35bb-4c9a-b04b-1d04cedcba1f-0', usage_metadata={'input_tokens': 411, 'output_tokens': 25, 'total_tokens': 436, 'input_token_details': {'audio': 0, 'cache_read': 0}, 'output_token_details': {'audio': 0, 'reasoning': 0}}), HumanMessage(content='please send me a push notification with current USD/INR exchange rate', additional_kwargs={}, response_metadata={}, id='60985eee-fd43-4ed4-9c5c-759d7cb6ea1c'), AIMessage(content='', additional_kwargs={'tool_calls': [{'id': 'call_T32oFV9oOAbfLgLddg1bTOPE', 'function': {'arguments': '{\"__arg1\":\"current USD to INR exchange rate\"}', 'name': 'search'}, 'type': 'function'}], 'refusal': None}, response_metadata={'token_usage': {'completion_tokens': 20, 'prompt_tokens': 457, 'total_tokens': 477, 'completion_tokens_details': {'accepted_prediction_tokens': 0, 'audio_tokens': 0, 'reasoning_tokens': 0, 'rejected_prediction_tokens': 0}, 'prompt_tokens_details': {'audio_tokens': 0, 'cached_tokens': 0}}, 'model_name': 'gpt-4o-mini-2024-07-18', 'system_fingerprint': 'fp_34a54ae93c', 'id': 'chatcmpl-BzglWVvA61vbKIWzVLUvMwz1WvA60', 'service_tier': 'default', 'finish_reason': 'tool_calls', 'logprobs': None}, id='run--80e332cd-5b39-4386-b18d-aedba4a10b4c-0', tool_calls=[{'name': 'search', 'args': {'__arg1': 'current USD to INR exchange rate'}, 'id': 'call_T32oFV9oOAbfLgLddg1bTOPE', 'type': 'tool_call'}], usage_metadata={'input_tokens': 457, 'output_tokens': 20, 'total_tokens': 477, 'input_token_details': {'audio': 0, 'cache_read': 0}, 'output_token_details': {'audio': 0, 'reasoning': 0}}), ToolMessage(content='FX: 1.00 USD – 88.0208 INR Exchange Rates and Fees shown are estimates, vary by a number of factors including payment and payout methods, and are subject to ... Convert US Dollar to Indian Rupee ; 1 USD. 87.6613 INR ; 5 USD. 438.306 INR ; 10 USD. 876.613 INR ; 25 USD. 2,191.53 INR ; 50 USD. 4,383.06 INR. USD to INR exchange rates today ; 1 INR, 0.01 USD ; 5 INR, 0.06 USD ; 10 INR, 0.11 USD ; 20 INR, 0.23 USD. USD-INR X-RATE. Following Follow Follow. USDINR:CUR. Following Follow Follow. (INR). 87.4550. 0.14–0.16%. As of 5:09 AM EDT 08/01/25 . Summary. Related News. The exchange rate for US dollar to Indian rupees is currently 87.524 today, reflecting a -0.191% change since yesterday. Over the past week, the value of US ... As of today, the USD to INR exchange rate is INR 84.27 INR for 1 US dollar. This rate marks a continued period of strength for the dollar against the Indian ... Remitly offers dependable exchange rates for USD to INR with no hidden fees. Join today and get a promotional rate of 87.73 INR to 1 USD on your first money ... US Dollar/Indian Rupee FX Spot Rate INR=:Exchange · Open87.561 · Prev Close87.496 · Day High87.668 · Day Low87.228 ... Current INR Exchange Rates ; Online, Mobile and In-Branch, Up to $10,000, 86.87 ; Online, Mobile and In-Branch, Above $10,000 to $25,000, 87.07 ; Online and In- ... Today i.e.Friday 01/08/2025 , for 1 US Dollar you get 87.44 Indian Rupees. Change in USD to INR rate from previous day is +0.17%. Moreover, we have also added ...', name='search', id='c352e528-c613-42e1-8773-1a0c61af8f08', tool_call_id='call_T32oFV9oOAbfLgLddg1bTOPE')]}\n",
      "{'messages': [HumanMessage(content='hi there', additional_kwargs={}, response_metadata={}, id='d6144090-9963-438c-b21b-3fb4f06edbc0'), AIMessage(content='Hello! How can I assist you today?', additional_kwargs={'refusal': None}, response_metadata={'token_usage': {'completion_tokens': 11, 'prompt_tokens': 90, 'total_tokens': 101, 'completion_tokens_details': {'accepted_prediction_tokens': 0, 'audio_tokens': 0, 'reasoning_tokens': 0, 'rejected_prediction_tokens': 0}, 'prompt_tokens_details': {'audio_tokens': 0, 'cached_tokens': 0}}, 'model_name': 'gpt-4o-mini-2024-07-18', 'system_fingerprint': 'fp_b376dfbbd5', 'id': 'chatcmpl-BInN7JUnEYNTQqokCF3eihp5oKP0V', 'finish_reason': 'stop', 'logprobs': None}, id='run-4b488710-73ac-435e-a944-913a0c812d08-0', usage_metadata={'input_tokens': 90, 'output_tokens': 11, 'total_tokens': 101, 'input_token_details': {'audio': 0, 'cache_read': 0}, 'output_token_details': {'audio': 0, 'reasoning': 0}}), HumanMessage(content=\"what's my name\", additional_kwargs={}, response_metadata={}, id='0ee3236f-a0f8-487c-9e18-3a1a83e91d81'), AIMessage(content=\"I don't have access to personal information unless you provide it. What would you like me to call you?\", additional_kwargs={'refusal': None}, response_metadata={'token_usage': {'completion_tokens': 23, 'prompt_tokens': 111, 'total_tokens': 134, 'completion_tokens_details': {'accepted_prediction_tokens': 0, 'audio_tokens': 0, 'reasoning_tokens': 0, 'rejected_prediction_tokens': 0}, 'prompt_tokens_details': {'audio_tokens': 0, 'cached_tokens': 0}}, 'model_name': 'gpt-4o-mini-2024-07-18', 'system_fingerprint': 'fp_b376dfbbd5', 'id': 'chatcmpl-BInNEm0T32rf7Lx23sOvrcePfgL8d', 'finish_reason': 'stop', 'logprobs': None}, id='run-c12bd46c-0c94-475c-b281-89773b1947a2-0', usage_metadata={'input_tokens': 111, 'output_tokens': 23, 'total_tokens': 134, 'input_token_details': {'audio': 0, 'cache_read': 0}, 'output_token_details': {'audio': 0, 'reasoning': 0}}), HumanMessage(content=\"My name's Ed\", additional_kwargs={}, response_metadata={}, id='65e59191-b993-4faf-9699-197f70b79fcd'), AIMessage(content='Nice to meet you, Ed! How can I assist you today?', additional_kwargs={'refusal': None}, response_metadata={'token_usage': {'completion_tokens': 16, 'prompt_tokens': 144, 'total_tokens': 160, 'completion_tokens_details': {'accepted_prediction_tokens': 0, 'audio_tokens': 0, 'reasoning_tokens': 0, 'rejected_prediction_tokens': 0}, 'prompt_tokens_details': {'audio_tokens': 0, 'cached_tokens': 0}}, 'model_name': 'gpt-4o-mini-2024-07-18', 'system_fingerprint': 'fp_b376dfbbd5', 'id': 'chatcmpl-BInNLLW9Z5vrmr2MUfk6CLJBnCMOg', 'finish_reason': 'stop', 'logprobs': None}, id='run-68e08e4e-bc27-4802-b800-8fb359a5d976-0', usage_metadata={'input_tokens': 144, 'output_tokens': 16, 'total_tokens': 160, 'input_token_details': {'audio': 0, 'cache_read': 0}, 'output_token_details': {'audio': 0, 'reasoning': 0}}), HumanMessage(content='hi there', additional_kwargs={}, response_metadata={}, id='dfeeb914-53d6-404f-9a5c-0531f1fe43fe'), AIMessage(content='Hello again, Ed! How can I help you today?', additional_kwargs={'refusal': None}, response_metadata={'token_usage': {'completion_tokens': 14, 'prompt_tokens': 168, 'total_tokens': 182, 'completion_tokens_details': {'accepted_prediction_tokens': 0, 'audio_tokens': 0, 'reasoning_tokens': 0, 'rejected_prediction_tokens': 0}, 'prompt_tokens_details': {'audio_tokens': 0, 'cached_tokens': 0}}, 'model_name': 'gpt-4o-mini-2024-07-18', 'system_fingerprint': 'fp_b376dfbbd5', 'id': 'chatcmpl-BInOS7TKECQA9Trbcv3mBsxkVJ8c3', 'finish_reason': 'stop', 'logprobs': None}, id='run-8b9e7d2c-d34d-4d84-99d2-dcb6b26b84bf-0', usage_metadata={'input_tokens': 168, 'output_tokens': 14, 'total_tokens': 182, 'input_token_details': {'audio': 0, 'cache_read': 0}, 'output_token_details': {'audio': 0, 'reasoning': 0}}), HumanMessage(content='please send me a push notification with the current usd/gbp exchange rate', additional_kwargs={}, response_metadata={}, id='6e096518-8d44-40e9-8aba-bf5027dac79c'), AIMessage(content='', additional_kwargs={'tool_calls': [{'id': 'call_mFP2QpmSUYlvqjz3HBvRv0Cv', 'function': {'arguments': '{\"__arg1\":\"current USD to GBP exchange rate\"}', 'name': 'search'}, 'type': 'function'}], 'refusal': None}, response_metadata={'token_usage': {'completion_tokens': 21, 'prompt_tokens': 203, 'total_tokens': 224, 'completion_tokens_details': {'accepted_prediction_tokens': 0, 'audio_tokens': 0, 'reasoning_tokens': 0, 'rejected_prediction_tokens': 0}, 'prompt_tokens_details': {'audio_tokens': 0, 'cached_tokens': 0}}, 'model_name': 'gpt-4o-mini-2024-07-18', 'system_fingerprint': 'fp_b376dfbbd5', 'id': 'chatcmpl-BInShCTgCsggydsrv3MmpIXLyvzGF', 'finish_reason': 'tool_calls', 'logprobs': None}, id='run-1bc3e47d-30c5-40f4-a9da-42dd24e74732-0', tool_calls=[{'name': 'search', 'args': {'__arg1': 'current USD to GBP exchange rate'}, 'id': 'call_mFP2QpmSUYlvqjz3HBvRv0Cv', 'type': 'tool_call'}], usage_metadata={'input_tokens': 203, 'output_tokens': 21, 'total_tokens': 224, 'input_token_details': {'audio': 0, 'cache_read': 0}, 'output_token_details': {'audio': 0, 'reasoning': 0}}), ToolMessage(content='0.78 Pound sterling', name='search', id='04044643-e40a-4bda-a03c-bc80949d039c', tool_call_id='call_mFP2QpmSUYlvqjz3HBvRv0Cv'), AIMessage(content='', additional_kwargs={'tool_calls': [{'id': 'call_2RByu6cFdwow5BWX8eblN402', 'function': {'arguments': '{\"__arg1\":\"The current USD/GBP exchange rate is 0.78.\"}', 'name': 'send_push_notification'}, 'type': 'function'}], 'refusal': None}, response_metadata={'token_usage': {'completion_tokens': 30, 'prompt_tokens': 235, 'total_tokens': 265, 'completion_tokens_details': {'accepted_prediction_tokens': 0, 'audio_tokens': 0, 'reasoning_tokens': 0, 'rejected_prediction_tokens': 0}, 'prompt_tokens_details': {'audio_tokens': 0, 'cached_tokens': 0}}, 'model_name': 'gpt-4o-mini-2024-07-18', 'system_fingerprint': 'fp_b376dfbbd5', 'id': 'chatcmpl-BInSjgdmKJqByJ2VIxpCZE5vEQpep', 'finish_reason': 'tool_calls', 'logprobs': None}, id='run-030db0cd-4acc-4354-aa65-ae772d33be07-0', tool_calls=[{'name': 'send_push_notification', 'args': {'__arg1': 'The current USD/GBP exchange rate is 0.78.'}, 'id': 'call_2RByu6cFdwow5BWX8eblN402', 'type': 'tool_call'}], usage_metadata={'input_tokens': 235, 'output_tokens': 30, 'total_tokens': 265, 'input_token_details': {'audio': 0, 'cache_read': 0}, 'output_token_details': {'audio': 0, 'reasoning': 0}}), ToolMessage(content='null', name='send_push_notification', id='f16f6e9d-2d0e-4aca-991f-0d9fe7064574', tool_call_id='call_2RByu6cFdwow5BWX8eblN402'), AIMessage(content=\"I've sent you a push notification with the current USD/GBP exchange rate: 0.78. If you need anything else, just let me know!\", additional_kwargs={'refusal': None}, response_metadata={'token_usage': {'completion_tokens': 33, 'prompt_tokens': 274, 'total_tokens': 307, 'completion_tokens_details': {'accepted_prediction_tokens': 0, 'audio_tokens': 0, 'reasoning_tokens': 0, 'rejected_prediction_tokens': 0}, 'prompt_tokens_details': {'audio_tokens': 0, 'cached_tokens': 0}}, 'model_name': 'gpt-4o-mini-2024-07-18', 'system_fingerprint': 'fp_b376dfbbd5', 'id': 'chatcmpl-BInSk4W7o3wDEZhzLtixtWOVgEw4Y', 'finish_reason': 'stop', 'logprobs': None}, id='run-bc27a847-b5bf-4565-85af-8e3163f2c271-0', usage_metadata={'input_tokens': 274, 'output_tokens': 33, 'total_tokens': 307, 'input_token_details': {'audio': 0, 'cache_read': 0}, 'output_token_details': {'audio': 0, 'reasoning': 0}}), HumanMessage(content='can you send that push notification again please', additional_kwargs={}, response_metadata={}, id='328adc3d-8c39-4312-952c-3d3b87d5f736'), AIMessage(content='', additional_kwargs={'tool_calls': [{'id': 'call_9xFtRNwSPl00BBRdY3VGdZ9Y', 'function': {'arguments': '{\"__arg1\":\"The current USD/GBP exchange rate is 0.78.\"}', 'name': 'send_push_notification'}, 'type': 'function'}], 'refusal': None}, response_metadata={'token_usage': {'completion_tokens': 30, 'prompt_tokens': 321, 'total_tokens': 351, 'completion_tokens_details': {'accepted_prediction_tokens': 0, 'audio_tokens': 0, 'reasoning_tokens': 0, 'rejected_prediction_tokens': 0}, 'prompt_tokens_details': {'audio_tokens': 0, 'cached_tokens': 0}}, 'model_name': 'gpt-4o-mini-2024-07-18', 'system_fingerprint': 'fp_b376dfbbd5', 'id': 'chatcmpl-BInTHUIOvZ0DAwfqnVlb1SRlaKHmH', 'finish_reason': 'tool_calls', 'logprobs': None}, id='run-a2225381-34da-44b4-9e8d-45a0b8c29693-0', tool_calls=[{'name': 'send_push_notification', 'args': {'__arg1': 'The current USD/GBP exchange rate is 0.78.'}, 'id': 'call_9xFtRNwSPl00BBRdY3VGdZ9Y', 'type': 'tool_call'}], usage_metadata={'input_tokens': 321, 'output_tokens': 30, 'total_tokens': 351, 'input_token_details': {'audio': 0, 'cache_read': 0}, 'output_token_details': {'audio': 0, 'reasoning': 0}}), ToolMessage(content='null', name='send_push_notification', id='433985ee-9eeb-4b4b-866e-23cfc0f8e9fb', tool_call_id='call_9xFtRNwSPl00BBRdY3VGdZ9Y'), AIMessage(content=\"I've sent the push notification again with the current USD/GBP exchange rate: 0.78. If there's anything else you need, feel free to ask!\", additional_kwargs={'refusal': None}, response_metadata={'token_usage': {'completion_tokens': 34, 'prompt_tokens': 360, 'total_tokens': 394, 'completion_tokens_details': {'accepted_prediction_tokens': 0, 'audio_tokens': 0, 'reasoning_tokens': 0, 'rejected_prediction_tokens': 0}, 'prompt_tokens_details': {'audio_tokens': 0, 'cached_tokens': 0}}, 'model_name': 'gpt-4o-mini-2024-07-18', 'system_fingerprint': 'fp_b376dfbbd5', 'id': 'chatcmpl-BInTJ24F3iaC2JFCLGFb715HxeWU9', 'finish_reason': 'stop', 'logprobs': None}, id='run-eda57a8e-26a4-4aed-a3c6-ce404e2d5cfa-0', usage_metadata={'input_tokens': 360, 'output_tokens': 34, 'total_tokens': 394, 'input_token_details': {'audio': 0, 'cache_read': 0}, 'output_token_details': {'audio': 0, 'reasoning': 0}}), HumanMessage(content=\"My name's varun and i'm 20 years old\", additional_kwargs={}, response_metadata={}, id='6d1a9828-b1d2-4592-a2d1-8180c1290af4'), AIMessage(content='Nice to meet you, Varun! If you have any questions or need assistance, feel free to let me know!', additional_kwargs={'refusal': None}, response_metadata={'token_usage': {'completion_tokens': 25, 'prompt_tokens': 411, 'total_tokens': 436, 'completion_tokens_details': {'accepted_prediction_tokens': 0, 'audio_tokens': 0, 'reasoning_tokens': 0, 'rejected_prediction_tokens': 0}, 'prompt_tokens_details': {'audio_tokens': 0, 'cached_tokens': 0}}, 'model_name': 'gpt-4o-mini-2024-07-18', 'system_fingerprint': 'fp_34a54ae93c', 'id': 'chatcmpl-BzghuD8HR6EBGe7g5lAemgyhdO8Fo', 'service_tier': 'default', 'finish_reason': 'stop', 'logprobs': None}, id='run--8b1661b8-35bb-4c9a-b04b-1d04cedcba1f-0', usage_metadata={'input_tokens': 411, 'output_tokens': 25, 'total_tokens': 436, 'input_token_details': {'audio': 0, 'cache_read': 0}, 'output_token_details': {'audio': 0, 'reasoning': 0}}), HumanMessage(content='please send me a push notification with current USD/INR exchange rate', additional_kwargs={}, response_metadata={}, id='60985eee-fd43-4ed4-9c5c-759d7cb6ea1c'), AIMessage(content='', additional_kwargs={'tool_calls': [{'id': 'call_T32oFV9oOAbfLgLddg1bTOPE', 'function': {'arguments': '{\"__arg1\":\"current USD to INR exchange rate\"}', 'name': 'search'}, 'type': 'function'}], 'refusal': None}, response_metadata={'token_usage': {'completion_tokens': 20, 'prompt_tokens': 457, 'total_tokens': 477, 'completion_tokens_details': {'accepted_prediction_tokens': 0, 'audio_tokens': 0, 'reasoning_tokens': 0, 'rejected_prediction_tokens': 0}, 'prompt_tokens_details': {'audio_tokens': 0, 'cached_tokens': 0}}, 'model_name': 'gpt-4o-mini-2024-07-18', 'system_fingerprint': 'fp_34a54ae93c', 'id': 'chatcmpl-BzglWVvA61vbKIWzVLUvMwz1WvA60', 'service_tier': 'default', 'finish_reason': 'tool_calls', 'logprobs': None}, id='run--80e332cd-5b39-4386-b18d-aedba4a10b4c-0', tool_calls=[{'name': 'search', 'args': {'__arg1': 'current USD to INR exchange rate'}, 'id': 'call_T32oFV9oOAbfLgLddg1bTOPE', 'type': 'tool_call'}], usage_metadata={'input_tokens': 457, 'output_tokens': 20, 'total_tokens': 477, 'input_token_details': {'audio': 0, 'cache_read': 0}, 'output_token_details': {'audio': 0, 'reasoning': 0}}), ToolMessage(content='FX: 1.00 USD – 88.0208 INR Exchange Rates and Fees shown are estimates, vary by a number of factors including payment and payout methods, and are subject to ... Convert US Dollar to Indian Rupee ; 1 USD. 87.6613 INR ; 5 USD. 438.306 INR ; 10 USD. 876.613 INR ; 25 USD. 2,191.53 INR ; 50 USD. 4,383.06 INR. USD to INR exchange rates today ; 1 INR, 0.01 USD ; 5 INR, 0.06 USD ; 10 INR, 0.11 USD ; 20 INR, 0.23 USD. USD-INR X-RATE. Following Follow Follow. USDINR:CUR. Following Follow Follow. (INR). 87.4550. 0.14–0.16%. As of 5:09 AM EDT 08/01/25 . Summary. Related News. The exchange rate for US dollar to Indian rupees is currently 87.524 today, reflecting a -0.191% change since yesterday. Over the past week, the value of US ... As of today, the USD to INR exchange rate is INR 84.27 INR for 1 US dollar. This rate marks a continued period of strength for the dollar against the Indian ... Remitly offers dependable exchange rates for USD to INR with no hidden fees. Join today and get a promotional rate of 87.73 INR to 1 USD on your first money ... US Dollar/Indian Rupee FX Spot Rate INR=:Exchange · Open87.561 · Prev Close87.496 · Day High87.668 · Day Low87.228 ... Current INR Exchange Rates ; Online, Mobile and In-Branch, Up to $10,000, 86.87 ; Online, Mobile and In-Branch, Above $10,000 to $25,000, 87.07 ; Online and In- ... Today i.e.Friday 01/08/2025 , for 1 US Dollar you get 87.44 Indian Rupees. Change in USD to INR rate from previous day is +0.17%. Moreover, we have also added ...', name='search', id='c352e528-c613-42e1-8773-1a0c61af8f08', tool_call_id='call_T32oFV9oOAbfLgLddg1bTOPE'), AIMessage(content='', additional_kwargs={'tool_calls': [{'id': 'call_NCFKp1dU75JqM6tOs8OFyAtF', 'function': {'arguments': '{\"__arg1\":\"The current USD/INR exchange rate is approximately 87.45.\"}', 'name': 'send_push_notification'}, 'type': 'function'}], 'refusal': None}, response_metadata={'token_usage': {'completion_tokens': 31, 'prompt_tokens': 948, 'total_tokens': 979, 'completion_tokens_details': {'accepted_prediction_tokens': 0, 'audio_tokens': 0, 'reasoning_tokens': 0, 'rejected_prediction_tokens': 0}, 'prompt_tokens_details': {'audio_tokens': 0, 'cached_tokens': 0}}, 'model_name': 'gpt-4o-mini-2024-07-18', 'system_fingerprint': 'fp_34a54ae93c', 'id': 'chatcmpl-BzglZ6hjGWARFbKLSbW9pRG8JSnIe', 'service_tier': 'default', 'finish_reason': 'tool_calls', 'logprobs': None}, id='run--0112a723-0962-4221-87f1-d650081d970b-0', tool_calls=[{'name': 'send_push_notification', 'args': {'__arg1': 'The current USD/INR exchange rate is approximately 87.45.'}, 'id': 'call_NCFKp1dU75JqM6tOs8OFyAtF', 'type': 'tool_call'}], usage_metadata={'input_tokens': 948, 'output_tokens': 31, 'total_tokens': 979, 'input_token_details': {'audio': 0, 'cache_read': 0}, 'output_token_details': {'audio': 0, 'reasoning': 0}}), ToolMessage(content='null', name='send_push_notification', id='47a10ccd-cfb7-45cf-bcba-9f06431b8950', tool_call_id='call_NCFKp1dU75JqM6tOs8OFyAtF')]}\n"
     ]
    }
   ],
   "source": [
    "config = {\"configurable\": {\"thread_id\": \"3\"}}\n",
    "\n",
    "def chat(user_input: str, history):\n",
    "    result = graph.invoke({\"messages\": [{\"role\": \"user\", \"content\": user_input}]}, config=config)\n",
    "    return result[\"messages\"][-1].content\n",
    "\n",
    "\n",
    "gr.ChatInterface(chat, type=\"messages\").launch()"
   ]
  },
  {
   "cell_type": "code",
   "execution_count": null,
   "metadata": {},
   "outputs": [],
   "source": []
  }
 ],
 "metadata": {
  "kernelspec": {
   "display_name": "Python 3",
   "language": "python",
   "name": "python3"
  },
  "language_info": {
   "codemirror_mode": {
    "name": "ipython",
    "version": 3
   },
   "file_extension": ".py",
   "mimetype": "text/x-python",
   "name": "python",
   "nbconvert_exporter": "python",
   "pygments_lexer": "ipython3",
   "version": "3.13.5"
  }
 },
 "nbformat": 4,
 "nbformat_minor": 2
}
